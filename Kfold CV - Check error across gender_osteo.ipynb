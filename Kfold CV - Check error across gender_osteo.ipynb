{
 "cells": [
  {
   "cell_type": "markdown",
   "metadata": {},
   "source": [
    "### Tasks:\n",
    "- clean data (again):\n",
    "    - impute missing BMI\n",
    "    - recode 'Lowest_Recent_Hypo_Cat'  \n",
    "    - recode 'Median_Recent_Hypo_Cat'\n",
    "-  One-hot encoding for categorical variables\n",
    "-  apply Kfold CV\n",
    "- check confusion matrix for female and male\n",
    "\n",
    "Demographic Gender in general (before build model):\n",
    "\n",
    "| osteo_predict | 1.0\t | 0.0 |\n",
    "| --- | --- | --- |\n",
    "| Female | 24,547 | 24,551 |\n",
    "| Male | 3,400 | 3,400 |\n",
    "\n",
    "Confusion matrix in general:\n",
    "\n",
    "| osteo_predict | pos\t | neg |\n",
    "| --- | --- | --- |\n",
    "| reality_True | 1,854 | 962 |\n",
    "| reality_False | 706 | 2,067|\n",
    "\n",
    "Confusion matrix for __FEMALE__\n",
    "\n",
    "| osteo_predict | pos\t | neg |\n",
    "| --- | --- | --- |\n",
    "| reality_True | 1,617 | 840 |\n",
    "| reality_False | 612 | 1,838|\n",
    "\n",
    "Recall for female: 0.7\n",
    "\n",
    "Confusion matrix for __MALE__\n",
    "\n",
    "| osteo_predict | pos\t | neg |\n",
    "| --- | --- | --- |\n",
    "| reality_True | 237 | 122 |\n",
    "| reality_False | 94 | 229|\n",
    "\n",
    "Recall for male: 0.68"
   ]
  },
  {
   "cell_type": "code",
   "execution_count": 1,
   "metadata": {
    "collapsed": true
   },
   "outputs": [],
   "source": [
    "import pandas as pd\n",
    "import numpy as np\n",
    "from scipy import stats\n",
    "# import csv\n",
    "import matplotlib.pyplot as plt\n",
    "import seaborn as sns \n",
    "\n",
    "from sklearn.model_selection import KFold\n",
    "from sklearn.metrics import confusion_matrix\n",
    "\n",
    "%matplotlib inline"
   ]
  },
  {
   "cell_type": "code",
   "execution_count": 2,
   "metadata": {},
   "outputs": [
    {
     "name": "stderr",
     "output_type": "stream",
     "text": [
      "/usr/local/lib/python3.6/site-packages/IPython/core/interactiveshell.py:3020: DtypeWarning: Columns (46) have mixed types. Specify dtype option on import or set low_memory=False.\n",
      "  interactivity=interactivity, compiler=compiler, result=result)\n"
     ]
    },
    {
     "name": "stdout",
     "output_type": "stream",
     "text": [
      "(55898, 188)\n",
      "(88779, 190)\n"
     ]
    }
   ],
   "source": [
    "import os\n",
    "path = '/Users/thanhng/osteo_experiment/'\n",
    "os.chdir(path) \n",
    "\n",
    "data_osteo = pd.read_csv('osteo_nodup.csv') \n",
    "data_fract = pd.read_csv('fract_nodup.csv')\n",
    "\n",
    "print(data_osteo.shape)\n",
    "print(data_fract.shape)  "
   ]
  },
  {
   "cell_type": "code",
   "execution_count": 167,
   "metadata": {},
   "outputs": [
    {
     "data": {
      "text/html": [
       "<div>\n",
       "<style scoped>\n",
       "    .dataframe tbody tr th:only-of-type {\n",
       "        vertical-align: middle;\n",
       "    }\n",
       "\n",
       "    .dataframe tbody tr th {\n",
       "        vertical-align: top;\n",
       "    }\n",
       "\n",
       "    .dataframe thead th {\n",
       "        text-align: right;\n",
       "    }\n",
       "</style>\n",
       "<table border=\"1\" class=\"dataframe\">\n",
       "  <thead>\n",
       "    <tr style=\"text-align: right;\">\n",
       "      <th>sex</th>\n",
       "      <th>F</th>\n",
       "      <th>M</th>\n",
       "      <th>All</th>\n",
       "    </tr>\n",
       "    <tr>\n",
       "      <th>osteo_predict</th>\n",
       "      <th></th>\n",
       "      <th></th>\n",
       "      <th></th>\n",
       "    </tr>\n",
       "  </thead>\n",
       "  <tbody>\n",
       "    <tr>\n",
       "      <th>0.0</th>\n",
       "      <td>24551</td>\n",
       "      <td>3400</td>\n",
       "      <td>27951</td>\n",
       "    </tr>\n",
       "    <tr>\n",
       "      <th>1.0</th>\n",
       "      <td>24547</td>\n",
       "      <td>3400</td>\n",
       "      <td>27947</td>\n",
       "    </tr>\n",
       "    <tr>\n",
       "      <th>All</th>\n",
       "      <td>49098</td>\n",
       "      <td>6800</td>\n",
       "      <td>55898</td>\n",
       "    </tr>\n",
       "  </tbody>\n",
       "</table>\n",
       "</div>"
      ],
      "text/plain": [
       "sex                F     M    All\n",
       "osteo_predict                    \n",
       "0.0            24551  3400  27951\n",
       "1.0            24547  3400  27947\n",
       "All            49098  6800  55898"
      ]
     },
     "execution_count": 167,
     "metadata": {},
     "output_type": "execute_result"
    }
   ],
   "source": [
    "#EDA in entire dataset\n",
    "gender = pd.crosstab(index=data_osteo[\"osteo_predict\"], columns=data_osteo[\"sex\"], margins = True)\n",
    "gender"
   ]
  },
  {
   "cell_type": "markdown",
   "metadata": {},
   "source": [
    "### Impute missing in BMI"
   ]
  },
  {
   "cell_type": "code",
   "execution_count": 36,
   "metadata": {},
   "outputs": [
    {
     "data": {
      "text/plain": [
       "38430"
      ]
     },
     "execution_count": 36,
     "metadata": {},
     "output_type": "execute_result"
    }
   ],
   "source": [
    "#check missing in BMI\n",
    "data_osteo['BMI_impute'].isna().sum()"
   ]
  },
  {
   "cell_type": "code",
   "execution_count": 3,
   "metadata": {},
   "outputs": [
    {
     "name": "stderr",
     "output_type": "stream",
     "text": [
      "/Users/thanhng/Library/Python/3.6/lib/python/site-packages/ipykernel_launcher.py:11: SettingWithCopyWarning: \n",
      "A value is trying to be set on a copy of a slice from a DataFrame\n",
      "\n",
      "See the caveats in the documentation: http://pandas.pydata.org/pandas-docs/stable/indexing.html#indexing-view-versus-copy\n",
      "  # This is added back by InteractiveShellApp.init_path()\n",
      "/Users/thanhng/Library/Python/3.6/lib/python/site-packages/ipykernel_launcher.py:15: SettingWithCopyWarning: \n",
      "A value is trying to be set on a copy of a slice from a DataFrame\n",
      "\n",
      "See the caveats in the documentation: http://pandas.pydata.org/pandas-docs/stable/indexing.html#indexing-view-versus-copy\n",
      "  from ipykernel import kernelapp as app\n"
     ]
    },
    {
     "data": {
      "text/plain": [
       "count    55898.000000\n",
       "mean         8.756985\n",
       "std         13.621088\n",
       "min          0.000000\n",
       "25%          0.000000\n",
       "50%          0.000000\n",
       "75%         22.273403\n",
       "max         96.150000\n",
       "Name: BMI_impute, dtype: float64"
      ]
     },
     "execution_count": 3,
     "metadata": {},
     "output_type": "execute_result"
    }
   ],
   "source": [
    "mean_BMI = data_osteo['BMI_Avg'].mean() \n",
    "mean_BMI\n",
    "\n",
    "#BMI impute\n",
    "data_osteo['BMI_impute'] = data_osteo['BMI_Avg'].copy()\n",
    "count_extreme = 0\n",
    "# BMI_impute = []\n",
    "for i in range(0, len(data_osteo['BMI_impute'])):\n",
    "    if data_osteo['BMI_impute'][i] > 100 :\n",
    "        count_extreme +=1\n",
    "        data_osteo['BMI_impute'][i] = mean_BMI\n",
    "\n",
    "    if data_osteo['BMI_impute'][i] < 11:\n",
    "        count_extreme +=1\n",
    "        data_osteo['BMI_impute'][i] = mean_BMI\n",
    "\n",
    "data_osteo['BMI_impute'].fillna(0, inplace=True) \n",
    "data_osteo['BMI_impute'].describe()\n",
    "\n",
    "# print(count_extreme)"
   ]
  },
  {
   "cell_type": "code",
   "execution_count": 71,
   "metadata": {},
   "outputs": [
    {
     "data": {
      "text/plain": [
       "0"
      ]
     },
     "execution_count": 71,
     "metadata": {},
     "output_type": "execute_result"
    }
   ],
   "source": [
    "data_osteo['BMI_impute'].isna().sum()"
   ]
  },
  {
   "cell_type": "code",
   "execution_count": 130,
   "metadata": {},
   "outputs": [
    {
     "data": {
      "text/plain": [
       "(55898, 189)"
      ]
     },
     "execution_count": 130,
     "metadata": {},
     "output_type": "execute_result"
    }
   ],
   "source": [
    "data_osteo.shape"
   ]
  },
  {
   "cell_type": "markdown",
   "metadata": {},
   "source": [
    "### recode Lowest_Recent_Hypo_Cat"
   ]
  },
  {
   "cell_type": "code",
   "execution_count": 89,
   "metadata": {},
   "outputs": [
    {
     "data": {
      "text/plain": [
       "2.0    2649\n",
       "3.0     634\n",
       "4.0     211\n",
       "1.0       6\n",
       "Name: Lowest_Recent_Hypo_Cat, dtype: int64"
      ]
     },
     "execution_count": 89,
     "metadata": {},
     "output_type": "execute_result"
    }
   ],
   "source": [
    "#old value before recode\n",
    "data_osteo['Lowest_Recent_Hypo_Cat'].value_counts()"
   ]
  },
  {
   "cell_type": "code",
   "execution_count": 4,
   "metadata": {},
   "outputs": [
    {
     "data": {
      "text/plain": [
       "0.0    52404\n",
       "1.0     2649\n",
       "2.0      634\n",
       "3.0      211\n",
       "Name: Lowest_Recent_Hypo_Cat_edit, dtype: int64"
      ]
     },
     "execution_count": 4,
     "metadata": {},
     "output_type": "execute_result"
    }
   ],
   "source": [
    "#recode\n",
    "data_osteo['Lowest_Recent_Hypo_Cat_edit'] = data_osteo['Lowest_Recent_Hypo_Cat'].copy()\n",
    "\n",
    "data_osteo['Lowest_Recent_Hypo_Cat_edit'] = data_osteo['Lowest_Recent_Hypo_Cat_edit'].replace(1, 0)\n",
    "data_osteo['Lowest_Recent_Hypo_Cat_edit'] = data_osteo['Lowest_Recent_Hypo_Cat_edit'].replace(2, 1)\n",
    "data_osteo['Lowest_Recent_Hypo_Cat_edit'] = data_osteo['Lowest_Recent_Hypo_Cat_edit'].replace(3, 2)\n",
    "data_osteo['Lowest_Recent_Hypo_Cat_edit'] = data_osteo['Lowest_Recent_Hypo_Cat_edit'].replace(4, 3)    \n",
    "\n",
    "data_osteo['Lowest_Recent_Hypo_Cat_edit'].fillna(0, inplace=True) \n",
    "data_osteo['Lowest_Recent_Hypo_Cat_edit'].value_counts()\n"
   ]
  },
  {
   "cell_type": "markdown",
   "metadata": {},
   "source": [
    "### recode 'Median_Recent_Hypo_Cat'"
   ]
  },
  {
   "cell_type": "code",
   "execution_count": 91,
   "metadata": {},
   "outputs": [
    {
     "name": "stdout",
     "output_type": "stream",
     "text": [
      "2.0    1610\n",
      "1.0    1496\n",
      "3.0     327\n",
      "4.0      67\n",
      "Name: Median_Recent_Hypo_Cat, dtype: int64\n",
      "NA:  52398\n"
     ]
    }
   ],
   "source": [
    "print(data_osteo['Median_Recent_Hypo_Cat'].value_counts())\n",
    "print('NA: ', data_osteo['Median_Recent_Hypo_Cat'].isna().sum())"
   ]
  },
  {
   "cell_type": "code",
   "execution_count": 5,
   "metadata": {
    "collapsed": true
   },
   "outputs": [],
   "source": [
    "#copy original\n",
    "data_osteo['Median_Recent_Hypo_Cat_edit'] = data_osteo['Median_Recent_Hypo_Cat'].copy()\n",
    "#recode\n",
    "data_osteo['Median_Recent_Hypo_Cat_edit'] = data_osteo['Median_Recent_Hypo_Cat_edit'].replace(4,3)\n",
    "data_osteo['Median_Recent_Hypo_Cat_edit'] = data_osteo['Median_Recent_Hypo_Cat_edit'].replace(3,2)\n",
    "data_osteo['Median_Recent_Hypo_Cat_edit'] = data_osteo['Median_Recent_Hypo_Cat_edit'].replace(2,1)\n",
    "data_osteo['Median_Recent_Hypo_Cat_edit'] = data_osteo['Median_Recent_Hypo_Cat_edit'].replace(1,0)\n",
    "\n",
    "#fill NA \n",
    "data_osteo['Median_Recent_Hypo_Cat_edit'].fillna(0, inplace=True) "
   ]
  },
  {
   "cell_type": "code",
   "execution_count": 6,
   "metadata": {
    "collapsed": true
   },
   "outputs": [],
   "source": [
    "# extract needed columns\n",
    "data_extract = data_osteo.filter(['sex', 'Race_comb', 'Age_combine','osteo_predict', 'Hyponatremia_Prior',\n",
    "    'Drug_antipsych_prior', 'Drug_Estrogens_prior' 'Drug_Glucocorticoids_prior', \n",
    "     'Drug_Nsaids_prior', 'Drug_Opiates_prior', 'Drug_Pp_inhibitors_prior' 'Drug_Progesterone_prior', \n",
    "    'Drug_Seizure_prior', 'Drug_Ssris_prior', 'Drug_Tc_antidepress_prior', 'Drug_Thiazide_prior', \n",
    "     'Chronic_Hyponatremia', 'Recent_Hyponatremia', 'Liver_Prior',\n",
    "     'HeartDisease_Prior', 'PulmDisease_Prior', 'CNS_Disease_Prior', \n",
    "     'Malignancy_Prior', 'Alcohol_Prior', 'Tobacco_Prior',\n",
    "     'Drug_Loop_Diuretic_Prior', 'Sodium_Avg_Ever', 'BMI_impute', 'osteo_predict'\n",
    "     'Lowest_Recent_Hypo_Cat_edit', 'Median_Recent_Hypo_Cat_edit']) \n",
    "\n",
    "#fill NA in sodium by 0\n",
    "data_extract['Sodium_Avg_Ever'] = data_extract['Sodium_Avg_Ever'].replace(np.NaN, 0) "
   ]
  },
  {
   "cell_type": "code",
   "execution_count": 135,
   "metadata": {},
   "outputs": [
    {
     "data": {
      "text/plain": [
       "Index(['sex', 'Race_comb', 'Age_combine', 'osteo_predict',\n",
       "       'Hyponatremia_Prior', 'Drug_antipsych_prior', 'Drug_Nsaids_prior',\n",
       "       'Drug_Opiates_prior', 'Drug_Seizure_prior', 'Drug_Ssris_prior',\n",
       "       'Drug_Tc_antidepress_prior', 'Drug_Thiazide_prior',\n",
       "       'Chronic_Hyponatremia', 'Recent_Hyponatremia', 'Liver_Prior',\n",
       "       'HeartDisease_Prior', 'PulmDisease_Prior', 'CNS_Disease_Prior',\n",
       "       'Malignancy_Prior', 'Alcohol_Prior', 'Tobacco_Prior',\n",
       "       'Drug_Loop_Diuretic_Prior', 'Sodium_Avg_Ever', 'BMI_impute',\n",
       "       'Median_Recent_Hypo_Cat_edit'],\n",
       "      dtype='object')"
      ]
     },
     "execution_count": 135,
     "metadata": {},
     "output_type": "execute_result"
    }
   ],
   "source": [
    "data_extract.columns"
   ]
  },
  {
   "cell_type": "code",
   "execution_count": 136,
   "metadata": {},
   "outputs": [
    {
     "data": {
      "text/plain": [
       "(55898, 25)"
      ]
     },
     "execution_count": 136,
     "metadata": {},
     "output_type": "execute_result"
    }
   ],
   "source": [
    "data_extract.shape"
   ]
  },
  {
   "cell_type": "markdown",
   "metadata": {},
   "source": [
    "### One-hot encoding"
   ]
  },
  {
   "cell_type": "code",
   "execution_count": 137,
   "metadata": {
    "collapsed": true
   },
   "outputs": [],
   "source": [
    "# Copy the original data\n",
    "data_OHE = data_extract.copy()\n",
    "\n",
    "numeric_subset = data_extract.select_dtypes('number')\n",
    "categorical_subset = data_extract.select_dtypes('object')\n",
    "\n",
    "# One hot encode\n",
    "categorical_subset = pd.get_dummies(categorical_subset) \n",
    "\n",
    "# Join the two dataframes using concat. Make sure to use axis = 1 to perform a column bind\n",
    "data_OHE = pd.concat([numeric_subset, categorical_subset], axis = 1)\n",
    "\n",
    "#y variable for OHE\n",
    "y_OHE = data_OHE['osteo_predict']"
   ]
  },
  {
   "cell_type": "code",
   "execution_count": 150,
   "metadata": {},
   "outputs": [
    {
     "data": {
      "text/plain": [
       "Index(['osteo_predict', 'Hyponatremia_Prior', 'Drug_antipsych_prior',\n",
       "       'Drug_Nsaids_prior', 'Drug_Opiates_prior', 'Drug_Seizure_prior',\n",
       "       'Drug_Ssris_prior', 'Drug_Tc_antidepress_prior', 'Drug_Thiazide_prior',\n",
       "       'Chronic_Hyponatremia', 'Recent_Hyponatremia', 'Liver_Prior',\n",
       "       'HeartDisease_Prior', 'PulmDisease_Prior', 'CNS_Disease_Prior',\n",
       "       'Malignancy_Prior', 'Alcohol_Prior', 'Tobacco_Prior',\n",
       "       'Drug_Loop_Diuretic_Prior', 'Sodium_Avg_Ever', 'BMI_impute',\n",
       "       'Median_Recent_Hypo_Cat_edit', 'sex_F', 'sex_M',\n",
       "       'Race_comb_African American', 'Race_comb_Caucasian', 'Race_comb_Other',\n",
       "       'Age_combine_from_30_to_50', 'Age_combine_from_50_to_70',\n",
       "       'Age_combine_from_70_to_80', 'Age_combine_less_than_30',\n",
       "       'Age_combine_more_than_80'],\n",
       "      dtype='object')"
      ]
     },
     "execution_count": 150,
     "metadata": {},
     "output_type": "execute_result"
    }
   ],
   "source": [
    "data_OHE.columns"
   ]
  },
  {
   "cell_type": "code",
   "execution_count": 151,
   "metadata": {},
   "outputs": [
    {
     "data": {
      "text/plain": [
       "(55898, 32)"
      ]
     },
     "execution_count": 151,
     "metadata": {},
     "output_type": "execute_result"
    }
   ],
   "source": [
    "data_OHE.shape"
   ]
  },
  {
   "cell_type": "markdown",
   "metadata": {},
   "source": [
    "### apply CV"
   ]
  },
  {
   "cell_type": "code",
   "execution_count": 138,
   "metadata": {
    "collapsed": true
   },
   "outputs": [],
   "source": [
    "y = data_OHE['osteo_predict']\n",
    "X = data_OHE.drop('osteo_predict', axis=1) \n",
    "\n",
    "# prepare cross validation\n",
    "kf = KFold(n_splits=10)\n",
    "\n",
    "# enumerate splits\n",
    "for train_index, test_index in kf.split(X,y):\n",
    "#     print(\"TRAIN:\", train_index, \"TEST:\", test_index)\n",
    "    X_train, X_test = X.iloc[train_index], X.iloc[test_index]\n",
    "    y_train, y_test = y.iloc[train_index], y.iloc[test_index]"
   ]
  },
  {
   "cell_type": "code",
   "execution_count": 139,
   "metadata": {},
   "outputs": [
    {
     "name": "stdout",
     "output_type": "stream",
     "text": [
      "X.shape:  (55898, 31)\n",
      "X_train.shape:  (50309, 31)\n",
      "X_test.shape:  (5589, 31)\n"
     ]
    }
   ],
   "source": [
    "print('X.shape: ', X.shape)\n",
    "print('X_train.shape: ', X_train.shape )\n",
    "print('X_test.shape: ', X_test.shape) "
   ]
  },
  {
   "cell_type": "code",
   "execution_count": 140,
   "metadata": {},
   "outputs": [
    {
     "name": "stdout",
     "output_type": "stream",
     "text": [
      "y.shape:  (55898,)\n",
      "y_train.shape:  (50309,)\n",
      "y_test.shape:  (5589,)\n"
     ]
    }
   ],
   "source": [
    "print('y.shape: ', y.shape)\n",
    "print('y_train.shape: ', y_train.shape)\n",
    "print('y_test.shape: ', y_test.shape)"
   ]
  },
  {
   "cell_type": "markdown",
   "metadata": {},
   "source": [
    "### Applying logistics regression"
   ]
  },
  {
   "cell_type": "code",
   "execution_count": 141,
   "metadata": {},
   "outputs": [
    {
     "name": "stdout",
     "output_type": "stream",
     "text": [
      "Accuracy of LR on **TESTING SET**: 0.70\n"
     ]
    }
   ],
   "source": [
    "#TRAIN MODEL\n",
    "\n",
    "import sklearn.linear_model as linear_model\n",
    "from sklearn.metrics import accuracy_score\n",
    "\n",
    "cls = linear_model.LogisticRegression(penalty = 'l2', C = i,random_state = 0)\n",
    "    \n",
    "#TRAIN model on TRAINING SET\n",
    "cls.fit(X_train, y_train)\n",
    "\n",
    "#PREDICT model on TEST SET\n",
    "y_pred = cls.predict(X_test) \n",
    "\n",
    "print('Accuracy of LR on **TESTING SET**: {:.2f}'.format(accuracy_score(y_test, y_pred))) "
   ]
  },
  {
   "cell_type": "code",
   "execution_count": 142,
   "metadata": {},
   "outputs": [
    {
     "data": {
      "text/plain": [
       "array([[1854,  962],\n",
       "       [ 706, 2067]])"
      ]
     },
     "execution_count": 142,
     "metadata": {},
     "output_type": "execute_result"
    }
   ],
   "source": [
    "#confusion matrix in general\n",
    "confusion_matrix(y_test, y_pred)"
   ]
  },
  {
   "cell_type": "code",
   "execution_count": 143,
   "metadata": {},
   "outputs": [
    {
     "name": "stdout",
     "output_type": "stream",
     "text": [
      "             precision    recall  f1-score   support\n",
      "\n",
      "        0.0       0.72      0.66      0.69      2816\n",
      "        1.0       0.68      0.75      0.71      2773\n",
      "\n",
      "avg / total       0.70      0.70      0.70      5589\n",
      "\n"
     ]
    }
   ],
   "source": [
    "from sklearn.metrics import classification_report\n",
    "print(classification_report(y_test, y_pred))"
   ]
  },
  {
   "cell_type": "markdown",
   "metadata": {},
   "source": [
    "### Check errors across gender"
   ]
  },
  {
   "cell_type": "code",
   "execution_count": 144,
   "metadata": {},
   "outputs": [
    {
     "data": {
      "text/html": [
       "<div>\n",
       "<style scoped>\n",
       "    .dataframe tbody tr th:only-of-type {\n",
       "        vertical-align: middle;\n",
       "    }\n",
       "\n",
       "    .dataframe tbody tr th {\n",
       "        vertical-align: top;\n",
       "    }\n",
       "\n",
       "    .dataframe thead th {\n",
       "        text-align: right;\n",
       "    }\n",
       "</style>\n",
       "<table border=\"1\" class=\"dataframe\">\n",
       "  <thead>\n",
       "    <tr style=\"text-align: right;\">\n",
       "      <th>col_0</th>\n",
       "      <th>0.0</th>\n",
       "      <th>1.0</th>\n",
       "    </tr>\n",
       "    <tr>\n",
       "      <th>sex_F</th>\n",
       "      <th></th>\n",
       "      <th></th>\n",
       "    </tr>\n",
       "  </thead>\n",
       "  <tbody>\n",
       "    <tr>\n",
       "      <th>0</th>\n",
       "      <td>331</td>\n",
       "      <td>351</td>\n",
       "    </tr>\n",
       "    <tr>\n",
       "      <th>1</th>\n",
       "      <td>2229</td>\n",
       "      <td>2678</td>\n",
       "    </tr>\n",
       "  </tbody>\n",
       "</table>\n",
       "</div>"
      ],
      "text/plain": [
       "col_0   0.0   1.0\n",
       "sex_F            \n",
       "0       331   351\n",
       "1      2229  2678"
      ]
     },
     "execution_count": 144,
     "metadata": {},
     "output_type": "execute_result"
    }
   ],
   "source": [
    "gender_err = pd.crosstab(index=X_test[\"sex_F\"], columns=y_pred)\n",
    "gender_err"
   ]
  },
  {
   "cell_type": "code",
   "execution_count": 145,
   "metadata": {},
   "outputs": [
    {
     "name": "stdout",
     "output_type": "stream",
     "text": [
      "before combine y_pred:  (5589, 32)\n",
      "after:  (5589, 33)\n"
     ]
    }
   ],
   "source": [
    "#combine X_test, y_test, y_pred into separate df to cal confusion matrix based on gender\n",
    "\n",
    "testing_data = pd.concat([X_test, y_test], axis=1)\n",
    "print('before combine y_pred: ', testing_data.shape)\n",
    "\n",
    "testing_data['y_pred'] = y_pred\n",
    "print('after: ', testing_data.shape)"
   ]
  },
  {
   "cell_type": "code",
   "execution_count": 146,
   "metadata": {},
   "outputs": [
    {
     "data": {
      "text/plain": [
       "0.0    2816\n",
       "1.0    2773\n",
       "Name: osteo_predict, dtype: int64"
      ]
     },
     "execution_count": 146,
     "metadata": {},
     "output_type": "execute_result"
    }
   ],
   "source": [
    "#how many y\n",
    "testing_data['osteo_predict'].value_counts()"
   ]
  },
  {
   "cell_type": "code",
   "execution_count": 147,
   "metadata": {},
   "outputs": [
    {
     "data": {
      "text/plain": [
       "1.0    3029\n",
       "0.0    2560\n",
       "Name: y_pred, dtype: int64"
      ]
     },
     "execution_count": 147,
     "metadata": {},
     "output_type": "execute_result"
    }
   ],
   "source": [
    "#how many y_hat\n",
    "testing_data['y_pred'].value_counts()"
   ]
  },
  {
   "cell_type": "code",
   "execution_count": 152,
   "metadata": {},
   "outputs": [
    {
     "data": {
      "text/plain": [
       "1    49098\n",
       "0     6800\n",
       "Name: sex_F, dtype: int64"
      ]
     },
     "execution_count": 152,
     "metadata": {},
     "output_type": "execute_result"
    }
   ],
   "source": [
    "#how many female in entire dataset\n",
    "data_OHE['sex_F'].value_counts()"
   ]
  },
  {
   "cell_type": "code",
   "execution_count": 153,
   "metadata": {},
   "outputs": [
    {
     "data": {
      "text/plain": [
       "0    4907\n",
       "1     682\n",
       "Name: sex_M, dtype: int64"
      ]
     },
     "execution_count": 153,
     "metadata": {},
     "output_type": "execute_result"
    }
   ],
   "source": [
    "#how many female/male in testing data\n",
    "testing_data['sex_M'].value_counts()"
   ]
  },
  {
   "cell_type": "code",
   "execution_count": 52,
   "metadata": {},
   "outputs": [
    {
     "name": "stdout",
     "output_type": "stream",
     "text": [
      "check missing:  0\n"
     ]
    },
    {
     "data": {
      "text/plain": [
       "1    4907\n",
       "Name: sex_F, dtype: int64"
      ]
     },
     "execution_count": 52,
     "metadata": {},
     "output_type": "execute_result"
    }
   ],
   "source": [
    "#extract only female from testing data\n",
    "female = testing_data.loc[testing_data['sex_F'] == 1]\n",
    "print('check missing: ', female['sex_F'].isna().sum())\n",
    "female['sex_F'].value_counts()\n"
   ]
  },
  {
   "cell_type": "code",
   "execution_count": 154,
   "metadata": {},
   "outputs": [
    {
     "data": {
      "text/plain": [
       "array([[1617,  840],\n",
       "       [ 612, 1838]])"
      ]
     },
     "execution_count": 154,
     "metadata": {},
     "output_type": "execute_result"
    }
   ],
   "source": [
    "#confusion matrix for female\n",
    "confusion_matrix(female['osteo_predict'], female['y_pred'])"
   ]
  },
  {
   "cell_type": "code",
   "execution_count": 155,
   "metadata": {},
   "outputs": [
    {
     "name": "stdout",
     "output_type": "stream",
     "text": [
      "             precision    recall  f1-score   support\n",
      "\n",
      "        0.0       0.73      0.66      0.69      2457\n",
      "        1.0       0.69      0.75      0.72      2450\n",
      "\n",
      "avg / total       0.71      0.70      0.70      4907\n",
      "\n"
     ]
    }
   ],
   "source": [
    "from sklearn.metrics import classification_report\n",
    "print(classification_report(female['osteo_predict'], female['y_pred']))"
   ]
  },
  {
   "cell_type": "code",
   "execution_count": 156,
   "metadata": {},
   "outputs": [
    {
     "name": "stdout",
     "output_type": "stream",
     "text": [
      "check missing:  0\n"
     ]
    },
    {
     "data": {
      "text/plain": [
       "1    682\n",
       "Name: sex_M, dtype: int64"
      ]
     },
     "execution_count": 156,
     "metadata": {},
     "output_type": "execute_result"
    }
   ],
   "source": [
    "#extract male\n",
    "male = testing_data.loc[testing_data['sex_M'] == 1]\n",
    "print('check missing: ', male['sex_M'].isna().sum())\n",
    "male['sex_M'].value_counts()"
   ]
  },
  {
   "cell_type": "code",
   "execution_count": 157,
   "metadata": {},
   "outputs": [
    {
     "data": {
      "text/plain": [
       "array([[237, 122],\n",
       "       [ 94, 229]])"
      ]
     },
     "execution_count": 157,
     "metadata": {},
     "output_type": "execute_result"
    }
   ],
   "source": [
    "#confusion matrix for male\n",
    "confusion_matrix(male['osteo_predict'], male['y_pred'])"
   ]
  },
  {
   "cell_type": "code",
   "execution_count": 158,
   "metadata": {},
   "outputs": [
    {
     "name": "stdout",
     "output_type": "stream",
     "text": [
      "             precision    recall  f1-score   support\n",
      "\n",
      "        0.0       0.72      0.66      0.69       359\n",
      "        1.0       0.65      0.71      0.68       323\n",
      "\n",
      "avg / total       0.69      0.68      0.68       682\n",
      "\n"
     ]
    }
   ],
   "source": [
    "from sklearn.metrics import classification_report\n",
    "print(classification_report(male['osteo_predict'], male['y_pred']))"
   ]
  },
  {
   "cell_type": "markdown",
   "metadata": {},
   "source": [
    "## regulation in LR"
   ]
  },
  {
   "cell_type": "code",
   "execution_count": 174,
   "metadata": {},
   "outputs": [
    {
     "name": "stdout",
     "output_type": "stream",
     "text": [
      "Accuracy of LR on **TESTING SET**: 0.66\n"
     ]
    }
   ],
   "source": [
    "#TRAIN MODEL\n",
    "\n",
    "import sklearn.linear_model as linear_model\n",
    "from sklearn.metrics import accuracy_score\n",
    "\n",
    "C_param_range = [0.001,0.01,0.1,1,10,100]\n",
    "\n",
    "cls = linear_model.LogisticRegression(penalty = 'l1', C = i,random_state = 0)\n",
    "    \n",
    "#TRAIN model on TRAINING SET\n",
    "cls.fit(X_train, y_train)\n",
    "\n",
    "#PREDICT model on TEST SET\n",
    "y_pred = cls.predict(X_test) \n",
    "\n",
    "  \n",
    "# Saving accuracy score in table\n",
    "sepal_acc_table = pd.DataFrame(columns = ['C_parameter','Accuracy'])\n",
    "sepal_acc_table['C_parameter'] = C_param_range\n",
    "sepal_acc_table.iloc[j,1] = accuracy_score(y_test,y_pred_sepal)\n",
    "j += 1\n",
    "\n",
    "\n",
    "print('Accuracy of LR on **TESTING SET**: {:.2f}'.format(accuracy_score(y_test, y_pred))) "
   ]
  },
  {
   "cell_type": "markdown",
   "metadata": {},
   "source": [
    "## Apply Neural Network"
   ]
  },
  {
   "cell_type": "code",
   "execution_count": 71,
   "metadata": {},
   "outputs": [
    {
     "data": {
      "text/plain": [
       "(55898, 32)"
      ]
     },
     "execution_count": 71,
     "metadata": {},
     "output_type": "execute_result"
    }
   ],
   "source": [
    "data_OHE.shape"
   ]
  },
  {
   "cell_type": "code",
   "execution_count": 72,
   "metadata": {
    "collapsed": true
   },
   "outputs": [
    {
     "name": "stdout",
     "output_type": "stream",
     "text": [
      "Epoch 1/150\n",
      "50309/50309 [==============================] - 4s 79us/step - loss: 1.2118 - acc: 0.6400\n",
      "Epoch 2/150\n",
      "50309/50309 [==============================] - 3s 64us/step - loss: 0.5658 - acc: 0.6961\n",
      "Epoch 3/150\n",
      "50309/50309 [==============================] - 3s 64us/step - loss: 0.5584 - acc: 0.7017\n",
      "Epoch 4/150\n",
      "50309/50309 [==============================] - 4s 71us/step - loss: 0.5547 - acc: 0.7059\n",
      "Epoch 5/150\n",
      "50309/50309 [==============================] - 4s 72us/step - loss: 0.5536 - acc: 0.7055\n",
      "Epoch 6/150\n",
      "50309/50309 [==============================] - 3s 65us/step - loss: 0.5538 - acc: 0.7053\n",
      "Epoch 7/150\n",
      "50309/50309 [==============================] - 3s 66us/step - loss: 0.5520 - acc: 0.7075\n",
      "Epoch 8/150\n",
      "50309/50309 [==============================] - 4s 86us/step - loss: 0.5527 - acc: 0.7060\n",
      "Epoch 9/150\n",
      "50309/50309 [==============================] - 4s 72us/step - loss: 0.5522 - acc: 0.7058\n",
      "Epoch 10/150\n",
      "50309/50309 [==============================] - 6s 116us/step - loss: 0.5512 - acc: 0.7073\n",
      "Epoch 11/150\n",
      "50309/50309 [==============================] - 5s 100us/step - loss: 0.5512 - acc: 0.7077\n",
      "Epoch 12/150\n",
      "50309/50309 [==============================] - 4s 88us/step - loss: 0.5513 - acc: 0.7069\n",
      "Epoch 13/150\n",
      "50309/50309 [==============================] - 4s 82us/step - loss: 0.5508 - acc: 0.7047\n",
      "Epoch 14/150\n",
      "50309/50309 [==============================] - 4s 81us/step - loss: 0.5512 - acc: 0.7079\n",
      "Epoch 15/150\n",
      "50309/50309 [==============================] - 4s 82us/step - loss: 0.5505 - acc: 0.7072\n",
      "Epoch 16/150\n",
      "50309/50309 [==============================] - 5s 97us/step - loss: 0.5504 - acc: 0.7061\n",
      "Epoch 17/150\n",
      "50309/50309 [==============================] - 4s 88us/step - loss: 0.5501 - acc: 0.7077\n",
      "Epoch 18/150\n",
      "50309/50309 [==============================] - 5s 106us/step - loss: 0.5505 - acc: 0.7073\n",
      "Epoch 19/150\n",
      "50309/50309 [==============================] - 6s 112us/step - loss: 0.5497 - acc: 0.7074\n",
      "Epoch 20/150\n",
      "50309/50309 [==============================] - 5s 106us/step - loss: 0.5498 - acc: 0.7073 0s - loss: 0.54\n",
      "Epoch 21/150\n",
      "50309/50309 [==============================] - 8s 152us/step - loss: 0.5494 - acc: 0.7088\n",
      "Epoch 22/150\n",
      "50309/50309 [==============================] - 7s 140us/step - loss: 0.5495 - acc: 0.7078\n",
      "Epoch 23/150\n",
      "50309/50309 [==============================] - 4s 82us/step - loss: 0.5492 - acc: 0.7086\n",
      "Epoch 24/150\n",
      "50309/50309 [==============================] - 5s 94us/step - loss: 0.5491 - acc: 0.7088\n",
      "Epoch 25/150\n",
      "50309/50309 [==============================] - 5s 102us/step - loss: 0.5491 - acc: 0.7086\n",
      "Epoch 26/150\n",
      "50309/50309 [==============================] - 4s 74us/step - loss: 0.5490 - acc: 0.7093\n",
      "Epoch 27/150\n",
      "50309/50309 [==============================] - 4s 72us/step - loss: 0.5485 - acc: 0.7088\n",
      "Epoch 28/150\n",
      "50309/50309 [==============================] - 4s 87us/step - loss: 0.5490 - acc: 0.7080\n",
      "Epoch 29/150\n",
      "50309/50309 [==============================] - 5s 91us/step - loss: 0.5484 - acc: 0.7091\n",
      "Epoch 30/150\n",
      "50309/50309 [==============================] - 4s 79us/step - loss: 0.5486 - acc: 0.7089\n",
      "Epoch 31/150\n",
      "50309/50309 [==============================] - 4s 79us/step - loss: 0.5482 - acc: 0.7088\n",
      "Epoch 32/150\n",
      "50309/50309 [==============================] - 4s 76us/step - loss: 0.5483 - acc: 0.7089\n",
      "Epoch 33/150\n",
      "50309/50309 [==============================] - 5s 92us/step - loss: 0.5486 - acc: 0.7074\n",
      "Epoch 34/150\n",
      "50309/50309 [==============================] - 5s 103us/step - loss: 0.5486 - acc: 0.7074\n",
      "Epoch 35/150\n",
      "50309/50309 [==============================] - 6s 112us/step - loss: 0.5482 - acc: 0.7090\n",
      "Epoch 36/150\n",
      "50309/50309 [==============================] - 4s 88us/step - loss: 0.5483 - acc: 0.7087\n",
      "Epoch 37/150\n",
      "50309/50309 [==============================] - 4s 74us/step - loss: 0.5487 - acc: 0.7070\n",
      "Epoch 38/150\n",
      "50309/50309 [==============================] - 4s 75us/step - loss: 0.5485 - acc: 0.7097: 2s - loss: 0.5444 - - ETA: 2s - loss: 0.5457 -  - ETA\n",
      "Epoch 39/150\n",
      "50309/50309 [==============================] - 4s 76us/step - loss: 0.5483 - acc: 0.7075\n",
      "Epoch 40/150\n",
      "50309/50309 [==============================] - 4s 73us/step - loss: 0.5477 - acc: 0.7101\n",
      "Epoch 41/150\n",
      "50309/50309 [==============================] - 4s 76us/step - loss: 0.5479 - acc: 0.7096\n",
      "Epoch 42/150\n",
      "50309/50309 [==============================] - 4s 74us/step - loss: 0.5477 - acc: 0.7094\n",
      "Epoch 43/150\n",
      "50309/50309 [==============================] - 4s 72us/step - loss: 0.5475 - acc: 0.7086: 0s - loss: 0.5475 - acc: 0.708 - ETA: 0s - loss: 0\n",
      "Epoch 44/150\n",
      "50309/50309 [==============================] - 4s 75us/step - loss: 0.5480 - acc: 0.7089\n",
      "Epoch 45/150\n",
      "50309/50309 [==============================] - 4s 73us/step - loss: 0.5480 - acc: 0.7091\n",
      "Epoch 46/150\n",
      "50309/50309 [==============================] - 4s 82us/step - loss: 0.5473 - acc: 0.7117\n",
      "Epoch 47/150\n",
      "50309/50309 [==============================] - 4s 78us/step - loss: 0.5471 - acc: 0.7101\n",
      "Epoch 48/150\n",
      "50309/50309 [==============================] - 4s 74us/step - loss: 0.5478 - acc: 0.7099\n",
      "Epoch 49/150\n",
      "50309/50309 [==============================] - 4s 75us/step - loss: 0.5475 - acc: 0.7088\n",
      "Epoch 50/150\n",
      "50309/50309 [==============================] - 4s 75us/step - loss: 0.5478 - acc: 0.7074\n",
      "Epoch 51/150\n",
      "50309/50309 [==============================] - 4s 74us/step - loss: 0.5477 - acc: 0.7102\n",
      "Epoch 52/150\n",
      "50309/50309 [==============================] - 4s 73us/step - loss: 0.5474 - acc: 0.7093\n",
      "Epoch 53/150\n",
      "50309/50309 [==============================] - 4s 76us/step - loss: 0.5471 - acc: 0.7098\n",
      "Epoch 54/150\n",
      "50309/50309 [==============================] - 4s 73us/step - loss: 0.5477 - acc: 0.7091\n",
      "Epoch 55/150\n",
      "50309/50309 [==============================] - 4s 74us/step - loss: 0.5473 - acc: 0.7101\n",
      "Epoch 56/150\n",
      "50309/50309 [==============================] - 4s 79us/step - loss: 0.5475 - acc: 0.7099\n",
      "Epoch 57/150\n",
      "50309/50309 [==============================] - 4s 74us/step - loss: 0.5475 - acc: 0.7104: 0s - loss: 0.5478\n",
      "Epoch 58/150\n",
      "50309/50309 [==============================] - 4s 76us/step - loss: 0.5470 - acc: 0.7103\n",
      "Epoch 59/150\n",
      "50309/50309 [==============================] - 4s 76us/step - loss: 0.5469 - acc: 0.7096\n",
      "Epoch 60/150\n",
      "50309/50309 [==============================] - 4s 82us/step - loss: 0.5470 - acc: 0.7096: 3s - loss: 0.54\n",
      "Epoch 61/150\n",
      "50309/50309 [==============================] - 4s 76us/step - loss: 0.5473 - acc: 0.7087\n",
      "Epoch 62/150\n",
      "50309/50309 [==============================] - 4s 77us/step - loss: 0.5472 - acc: 0.7092\n",
      "Epoch 63/150\n",
      "50309/50309 [==============================] - 4s 77us/step - loss: 0.5469 - acc: 0.7098\n",
      "Epoch 64/150\n",
      "50309/50309 [==============================] - 4s 73us/step - loss: 0.5468 - acc: 0.7111\n",
      "Epoch 65/150\n",
      "50309/50309 [==============================] - 4s 76us/step - loss: 0.5470 - acc: 0.7097: 1s -\n",
      "Epoch 66/150\n",
      "50309/50309 [==============================] - 4s 76us/step - loss: 0.5469 - acc: 0.7099\n",
      "Epoch 67/150\n",
      "50309/50309 [==============================] - 4s 77us/step - loss: 0.5469 - acc: 0.7077\n",
      "Epoch 68/150\n",
      "50309/50309 [==============================] - 4s 74us/step - loss: 0.5469 - acc: 0.7096\n",
      "Epoch 69/150\n",
      "50309/50309 [==============================] - 4s 78us/step - loss: 0.5468 - acc: 0.7097: 0s - loss: 0.5475 -\n",
      "Epoch 70/150\n",
      "50309/50309 [==============================] - 4s 79us/step - loss: 0.5473 - acc: 0.7090: 0s - loss: 0.5475 - acc:\n",
      "Epoch 71/150\n",
      "50309/50309 [==============================] - 4s 76us/step - loss: 0.5466 - acc: 0.7115\n",
      "Epoch 72/150\n",
      "50309/50309 [==============================] - 4s 83us/step - loss: 0.5468 - acc: 0.7097\n",
      "Epoch 73/150\n",
      "50309/50309 [==============================] - 4s 83us/step - loss: 0.5467 - acc: 0.7102\n",
      "Epoch 74/150\n",
      "50309/50309 [==============================] - 4s 74us/step - loss: 0.5464 - acc: 0.7098\n",
      "Epoch 75/150\n",
      "50309/50309 [==============================] - 4s 79us/step - loss: 0.5466 - acc: 0.7109\n",
      "Epoch 76/150\n",
      "50309/50309 [==============================] - 4s 73us/step - loss: 0.5467 - acc: 0.7085\n",
      "Epoch 77/150\n",
      "50309/50309 [==============================] - 4s 79us/step - loss: 0.5465 - acc: 0.7109\n",
      "Epoch 78/150\n",
      "50309/50309 [==============================] - 4s 73us/step - loss: 0.5460 - acc: 0.7098\n",
      "Epoch 79/150\n",
      "50309/50309 [==============================] - 4s 71us/step - loss: 0.5461 - acc: 0.7107\n",
      "Epoch 80/150\n",
      "50309/50309 [==============================] - 4s 72us/step - loss: 0.5461 - acc: 0.7110: 0s - loss: 0.5455 - acc\n",
      "Epoch 81/150\n",
      "50309/50309 [==============================] - 4s 72us/step - loss: 0.5462 - acc: 0.7116: 1s \n",
      "Epoch 82/150\n",
      "50309/50309 [==============================] - 4s 73us/step - loss: 0.5460 - acc: 0.7094\n",
      "Epoch 83/150\n",
      "50309/50309 [==============================] - 4s 73us/step - loss: 0.5462 - acc: 0.7107\n",
      "Epoch 84/150\n",
      "50309/50309 [==============================] - 4s 73us/step - loss: 0.5460 - acc: 0.7106\n",
      "Epoch 85/150\n",
      "50309/50309 [==============================] - 4s 78us/step - loss: 0.5463 - acc: 0.7097\n",
      "Epoch 86/150\n",
      "50309/50309 [==============================] - 4s 73us/step - loss: 0.5457 - acc: 0.7108\n",
      "Epoch 87/150\n",
      "50309/50309 [==============================] - 4s 78us/step - loss: 0.5460 - acc: 0.7082: 0s - loss: 0.5458 \n",
      "Epoch 88/150\n",
      "50309/50309 [==============================] - 4s 72us/step - loss: 0.5457 - acc: 0.7104\n",
      "Epoch 89/150\n",
      "50309/50309 [==============================] - 4s 73us/step - loss: 0.5460 - acc: 0.7112: 1s - lo\n",
      "Epoch 90/150\n",
      "50309/50309 [==============================] - 4s 86us/step - loss: 0.5460 - acc: 0.7109\n",
      "Epoch 91/150\n",
      "50309/50309 [==============================] - 4s 73us/step - loss: 0.5458 - acc: 0.7089\n",
      "Epoch 92/150\n",
      "50309/50309 [==============================] - 4s 73us/step - loss: 0.5458 - acc: 0.7096\n",
      "Epoch 93/150\n",
      "50309/50309 [==============================] - 4s 75us/step - loss: 0.5460 - acc: 0.7113\n",
      "Epoch 94/150\n",
      "50309/50309 [==============================] - 4s 76us/step - loss: 0.5459 - acc: 0.7100: \n",
      "Epoch 95/150\n",
      "50309/50309 [==============================] - 4s 72us/step - loss: 0.5457 - acc: 0.7115: 0s - loss: 0.54\n",
      "Epoch 96/150\n",
      "50309/50309 [==============================] - 4s 73us/step - loss: 0.5456 - acc: 0.7097\n",
      "Epoch 97/150\n",
      "50309/50309 [==============================] - 4s 79us/step - loss: 0.5455 - acc: 0.7112: 0s - loss: 0.5450 \n",
      "Epoch 98/150\n",
      "50309/50309 [==============================] - 4s 72us/step - loss: 0.5455 - acc: 0.7107\n",
      "Epoch 99/150\n",
      "50309/50309 [==============================] - 4s 77us/step - loss: 0.5456 - acc: 0.7103\n",
      "Epoch 100/150\n",
      "50309/50309 [==============================] - 4s 74us/step - loss: 0.5454 - acc: 0.7127\n",
      "Epoch 101/150\n",
      "50309/50309 [==============================] - 4s 74us/step - loss: 0.5450 - acc: 0.7105\n",
      "Epoch 102/150\n",
      "50309/50309 [==============================] - 4s 77us/step - loss: 0.5453 - acc: 0.7099\n",
      "Epoch 103/150\n",
      "50309/50309 [==============================] - 4s 74us/step - loss: 0.5454 - acc: 0.7094\n",
      "Epoch 104/150\n",
      "50309/50309 [==============================] - 4s 74us/step - loss: 0.5454 - acc: 0.7119\n",
      "Epoch 105/150\n",
      "50309/50309 [==============================] - 4s 76us/step - loss: 0.5452 - acc: 0.7104\n",
      "Epoch 106/150\n",
      "50309/50309 [==============================] - 4s 73us/step - loss: 0.5452 - acc: 0.7111\n",
      "Epoch 107/150\n",
      "50309/50309 [==============================] - 4s 73us/step - loss: 0.5458 - acc: 0.7097\n",
      "Epoch 108/150\n",
      "50309/50309 [==============================] - 4s 73us/step - loss: 0.5444 - acc: 0.7126: 1s\n",
      "Epoch 109/150\n",
      "50309/50309 [==============================] - 4s 72us/step - loss: 0.5448 - acc: 0.7111: 0s - loss: 0.5442 - acc: 0.\n",
      "Epoch 110/150\n",
      "50309/50309 [==============================] - 4s 74us/step - loss: 0.5446 - acc: 0.7113\n",
      "Epoch 111/150\n",
      "50309/50309 [==============================] - 4s 88us/step - loss: 0.5451 - acc: 0.7110: 1s -\n",
      "Epoch 112/150\n",
      "50309/50309 [==============================] - 5s 101us/step - loss: 0.5451 - acc: 0.7110\n",
      "Epoch 113/150\n",
      "50309/50309 [==============================] - 5s 100us/step - loss: 0.5447 - acc: 0.7114\n",
      "Epoch 114/150\n",
      "50309/50309 [==============================] - 4s 88us/step - loss: 0.5450 - acc: 0.7098\n",
      "Epoch 115/150\n",
      "50309/50309 [==============================] - 4s 76us/step - loss: 0.5445 - acc: 0.7121\n",
      "Epoch 116/150\n",
      "50309/50309 [==============================] - 4s 75us/step - loss: 0.5449 - acc: 0.7110\n",
      "Epoch 117/150\n",
      "50309/50309 [==============================] - 5s 95us/step - loss: 0.5448 - acc: 0.7107\n",
      "Epoch 118/150\n",
      "50309/50309 [==============================] - 4s 80us/step - loss: 0.5447 - acc: 0.7106\n",
      "Epoch 119/150\n",
      "50309/50309 [==============================] - 5s 90us/step - loss: 0.5446 - acc: 0.7108\n",
      "Epoch 120/150\n",
      "50309/50309 [==============================] - 5s 107us/step - loss: 0.5451 - acc: 0.7107\n",
      "Epoch 121/150\n",
      "50309/50309 [==============================] - 6s 116us/step - loss: 0.5446 - acc: 0.7114\n",
      "Epoch 122/150\n",
      "50309/50309 [==============================] - 6s 111us/step - loss: 0.5447 - acc: 0.7122\n",
      "Epoch 123/150\n",
      "50309/50309 [==============================] - 5s 90us/step - loss: 0.5445 - acc: 0.7098\n",
      "Epoch 124/150\n",
      "50309/50309 [==============================] - 4s 81us/step - loss: 0.5448 - acc: 0.7098: 1s - loss: 0.5426 - acc:  - ET\n",
      "Epoch 125/150\n",
      "50309/50309 [==============================] - 4s 85us/step - loss: 0.5449 - acc: 0.7085\n",
      "Epoch 126/150\n",
      "50309/50309 [==============================] - 4s 83us/step - loss: 0.5446 - acc: 0.7115\n",
      "Epoch 127/150\n",
      "50309/50309 [==============================] - 5s 90us/step - loss: 0.5445 - acc: 0.7111: 0s - loss: 0.5460 - acc\n",
      "Epoch 128/150\n",
      "50309/50309 [==============================] - 6s 113us/step - loss: 0.5446 - acc: 0.7096\n",
      "Epoch 129/150\n",
      "50309/50309 [==============================] - 9s 176us/step - loss: 0.5442 - acc: 0.7106\n",
      "Epoch 130/150\n",
      "50309/50309 [==============================] - 6s 116us/step - loss: 0.5445 - acc: 0.7110\n",
      "Epoch 131/150\n",
      "50309/50309 [==============================] - 5s 108us/step - loss: 0.5440 - acc: 0.7099\n",
      "Epoch 132/150\n",
      "50309/50309 [==============================] - 4s 77us/step - loss: 0.5442 - acc: 0.7107\n",
      "Epoch 133/150\n",
      "50309/50309 [==============================] - 4s 71us/step - loss: 0.5444 - acc: 0.7116\n",
      "Epoch 134/150\n",
      "50309/50309 [==============================] - 4s 70us/step - loss: 0.5444 - acc: 0.7100\n",
      "Epoch 135/150\n",
      "50309/50309 [==============================] - 4s 74us/step - loss: 0.5445 - acc: 0.7105\n",
      "Epoch 136/150\n",
      "50309/50309 [==============================] - 4s 75us/step - loss: 0.5443 - acc: 0.7089\n",
      "Epoch 137/150\n",
      "50309/50309 [==============================] - 4s 71us/step - loss: 0.5441 - acc: 0.7103\n",
      "Epoch 138/150\n",
      "50309/50309 [==============================] - 4s 71us/step - loss: 0.5442 - acc: 0.7105\n",
      "Epoch 139/150\n",
      "50309/50309 [==============================] - 3s 69us/step - loss: 0.5444 - acc: 0.7093\n",
      "Epoch 140/150\n",
      "50309/50309 [==============================] - 4s 70us/step - loss: 0.5440 - acc: 0.7094\n",
      "Epoch 141/150\n",
      "50309/50309 [==============================] - 3s 69us/step - loss: 0.5442 - acc: 0.7110: 1s - loss:\n",
      "Epoch 142/150\n",
      "50309/50309 [==============================] - 4s 73us/step - loss: 0.5443 - acc: 0.7097\n",
      "Epoch 143/150\n",
      "50309/50309 [==============================] - 4s 71us/step - loss: 0.5444 - acc: 0.7115\n",
      "Epoch 144/150\n",
      "50309/50309 [==============================] - 4s 71us/step - loss: 0.5442 - acc: 0.7101\n",
      "Epoch 145/150\n",
      "50309/50309 [==============================] - 4s 88us/step - loss: 0.5440 - acc: 0.7089\n",
      "Epoch 146/150\n",
      "50309/50309 [==============================] - 4s 89us/step - loss: 0.5441 - acc: 0.7085\n",
      "Epoch 147/150\n",
      "50309/50309 [==============================] - 5s 96us/step - loss: 0.5444 - acc: 0.7093\n",
      "Epoch 148/150\n",
      "50309/50309 [==============================] - 6s 111us/step - loss: 0.5441 - acc: 0.7107 1\n",
      "Epoch 149/150\n",
      "50309/50309 [==============================] - 4s 86us/step - loss: 0.5443 - acc: 0.7103\n",
      "Epoch 150/150\n",
      "50309/50309 [==============================] - 4s 70us/step - loss: 0.5435 - acc: 0.7094\n",
      "5589/5589 [==============================] - 0s 23us/step\n",
      "\n",
      "acc: 70.41%\n"
     ]
    }
   ],
   "source": [
    "# Implement MLP in Keras\n",
    "from keras.models import Sequential\n",
    "from keras.layers import Dense\n",
    "\n",
    "model = Sequential()\n",
    "model.add(Dense(12, input_dim=31, activation='relu'))\n",
    "model.add(Dense(8, activation='relu'))\n",
    "model.add(Dense(1, activation='sigmoid'))\n",
    "# Compile model\n",
    "model.compile(loss='binary_crossentropy', optimizer='adam', metrics=['accuracy'])\n",
    "# Fit the model\n",
    "model.fit(X_train, y_train, epochs=150, batch_size=20)\n",
    "# evaluate the model\n",
    "scores = model.evaluate(X_test, y_test)\n",
    "print(\"\\n%s: %.2f%%\" % (model.metrics_names[1], scores[1]*100))"
   ]
  },
  {
   "cell_type": "code",
   "execution_count": 73,
   "metadata": {},
   "outputs": [
    {
     "name": "stdout",
     "output_type": "stream",
     "text": [
      "\n",
      "acc: 70.41%\n"
     ]
    }
   ],
   "source": [
    "print(\"\\n%s: %.2f%%\" % (model.metrics_names[1], scores[1]*100))"
   ]
  },
  {
   "cell_type": "code",
   "execution_count": 91,
   "metadata": {},
   "outputs": [
    {
     "data": {
      "text/plain": [
       "5589"
      ]
     },
     "execution_count": 91,
     "metadata": {},
     "output_type": "execute_result"
    }
   ],
   "source": [
    "y_pred_NN = model.predict(X_test)\n",
    "len(y_pred_NN)"
   ]
  },
  {
   "cell_type": "code",
   "execution_count": 92,
   "metadata": {
    "collapsed": true
   },
   "outputs": [],
   "source": [
    "y_pred_NN = (y_pred_NN > 0.5)"
   ]
  },
  {
   "cell_type": "code",
   "execution_count": 93,
   "metadata": {},
   "outputs": [
    {
     "name": "stdout",
     "output_type": "stream",
     "text": [
      "before combine y_pred:  (5589, 32)\n",
      "after:  (5589, 33)\n"
     ]
    }
   ],
   "source": [
    "#combine X_test, y_test, y_pred into separate df to cal confusion matrix based on gender\n",
    "\n",
    "testing_data_NN = pd.concat([X_test, y_test], axis=1)\n",
    "print('before combine y_pred: ', testing_data_NN.shape)\n",
    "\n",
    "testing_data_NN['y_pred'] = y_pred_NN\n",
    "print('after: ', testing_data_NN.shape)"
   ]
  },
  {
   "cell_type": "code",
   "execution_count": 94,
   "metadata": {},
   "outputs": [
    {
     "name": "stdout",
     "output_type": "stream",
     "text": [
      "check missing:  0\n"
     ]
    },
    {
     "data": {
      "text/plain": [
       "1    4907\n",
       "Name: sex_F, dtype: int64"
      ]
     },
     "execution_count": 94,
     "metadata": {},
     "output_type": "execute_result"
    }
   ],
   "source": [
    "#extract only female from testing data\n",
    "female_NN = testing_data_NN.loc[testing_data_NN['sex_F'] == 1]\n",
    "print('check missing: ', female_NN['sex_F'].isna().sum())\n",
    "female_NN['sex_F'].value_counts()"
   ]
  },
  {
   "cell_type": "code",
   "execution_count": 161,
   "metadata": {},
   "outputs": [
    {
     "data": {
      "text/plain": [
       "Index(['Hyponatremia_Prior', 'Drug_antipsych_prior', 'Drug_Nsaids_prior',\n",
       "       'Drug_Opiates_prior', 'Drug_Seizure_prior', 'Drug_Ssris_prior',\n",
       "       'Drug_Tc_antidepress_prior', 'Drug_Thiazide_prior',\n",
       "       'Chronic_Hyponatremia', 'Recent_Hyponatremia', 'Liver_Prior',\n",
       "       'HeartDisease_Prior', 'PulmDisease_Prior', 'CNS_Disease_Prior',\n",
       "       'Malignancy_Prior', 'Alcohol_Prior', 'Tobacco_Prior',\n",
       "       'Drug_Loop_Diuretic_Prior', 'Sodium_Avg_Ever', 'BMI_impute',\n",
       "       'Median_Recent_Hypo_Cat_edit', 'sex_F', 'sex_M',\n",
       "       'Race_comb_African American', 'Race_comb_Caucasian', 'Race_comb_Other',\n",
       "       'Age_combine_from_30_to_50', 'Age_combine_from_50_to_70',\n",
       "       'Age_combine_from_70_to_80', 'Age_combine_less_than_30',\n",
       "       'Age_combine_more_than_80', 'osteo_predict', 'y_pred'],\n",
       "      dtype='object')"
      ]
     },
     "execution_count": 161,
     "metadata": {},
     "output_type": "execute_result"
    }
   ],
   "source": [
    "female_NN.columns"
   ]
  },
  {
   "cell_type": "code",
   "execution_count": 164,
   "metadata": {},
   "outputs": [
    {
     "data": {
      "text/plain": [
       "array([[1617,  840],\n",
       "       [ 612, 1838]])"
      ]
     },
     "execution_count": 164,
     "metadata": {},
     "output_type": "execute_result"
    }
   ],
   "source": [
    "#confusion matrix of female\n",
    "confusion_matrix(female['osteo_predict'], female['y_pred']) "
   ]
  },
  {
   "cell_type": "code",
   "execution_count": 83,
   "metadata": {},
   "outputs": [
    {
     "data": {
      "text/plain": [
       "dtype('float32')"
      ]
     },
     "execution_count": 83,
     "metadata": {},
     "output_type": "execute_result"
    }
   ],
   "source": [
    "y_pred_NN.dtype"
   ]
  },
  {
   "cell_type": "code",
   "execution_count": 165,
   "metadata": {},
   "outputs": [
    {
     "name": "stdout",
     "output_type": "stream",
     "text": [
      "check missing:  0\n"
     ]
    },
    {
     "data": {
      "text/plain": [
       "1    682\n",
       "Name: sex_M, dtype: int64"
      ]
     },
     "execution_count": 165,
     "metadata": {},
     "output_type": "execute_result"
    }
   ],
   "source": [
    "#extract only male from testing data\n",
    "male_NN = testing_data_NN.loc[testing_data_NN['sex_M'] == 1]\n",
    "print('check missing: ', male_NN['sex_M'].isna().sum())\n",
    "male_NN['sex_M'].value_counts()"
   ]
  },
  {
   "cell_type": "code",
   "execution_count": 166,
   "metadata": {},
   "outputs": [
    {
     "data": {
      "text/plain": [
       "array([[237, 122],\n",
       "       [ 94, 229]])"
      ]
     },
     "execution_count": 166,
     "metadata": {},
     "output_type": "execute_result"
    }
   ],
   "source": [
    "#confusion matrix of female\n",
    "confusion_matrix(male['osteo_predict'], male['y_pred']) "
   ]
  },
  {
   "cell_type": "code",
   "execution_count": null,
   "metadata": {
    "collapsed": true
   },
   "outputs": [],
   "source": []
  }
 ],
 "metadata": {
  "kernelspec": {
   "display_name": "Python 3",
   "language": "python",
   "name": "python3"
  },
  "language_info": {
   "codemirror_mode": {
    "name": "ipython",
    "version": 3
   },
   "file_extension": ".py",
   "mimetype": "text/x-python",
   "name": "python",
   "nbconvert_exporter": "python",
   "pygments_lexer": "ipython3",
   "version": "3.6.5"
  }
 },
 "nbformat": 4,
 "nbformat_minor": 2
}
