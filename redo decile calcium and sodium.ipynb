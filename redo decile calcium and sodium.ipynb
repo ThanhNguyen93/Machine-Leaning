{
 "cells": [
  {
   "cell_type": "markdown",
   "metadata": {},
   "source": [
    "Objectives: categorize continuous variables:\n",
    "\n",
    "CALCIUM: 'Calcium_Closest_Osteo','Calcium_Avg_Prior',  'Calcium_Avg_Ever' \n",
    "                         \n",
    "SODIUM:  __'Sodium_Closest_Osteo',__'Sodium_Avg_Prior', 'Sodium_Avg_Ever', 'Sodium_Worst_Prior','Sodium_Worst_Ever'\n",
    "\n",
    "---> 8 variables\n",
    "\n",
    "\n",
    "1. __Discretize__ (bins start from 0 to 9) (0 here != missing)\n",
    "        'Calcium_Closest_Osteo': 'Calcium_Closest_Osteo_decile', \n",
    "        'Calcium_Avg_Prior': 'Calcium_Avg_Prior_decile',\n",
    "        'Calcium_Avg_Ever': 'Calcium_Avg_Ever_decile',\n",
    "\n",
    "         __'Sodium_Closest_Osteo'__: 'Sodium_Closest_Osteo_decile', --> need special function to recode (i.e. missing = 0, the rest 10 bins start w 1)\n",
    "\n",
    "        'Sodium_Avg_Prior': 'Sodium_Avg_Prior_decile',\n",
    "        'Sodium_Avg_Ever': 'Sodium_Avg_Ever_decile',\n",
    "        'Sodium_Worst_Prior': 'Sodium_Worst_Prior_decile',\n",
    "        'Sodium_Worst_Ever': 'Sodium_Worst_Ever_decile'\n",
    "\n",
    "2. __Categorize__: missing = 0, not missing = 1\n",
    "         'Calcium_Closest_Osteo': 'Calcium_Closest_Osteo_cat', \n",
    "         'Calcium_Avg_Prior': 'Calcium_Avg_Prior_cat',\n",
    "         'Calcium_Avg_Ever': 'Calcium_Avg_Ever_cat',\n",
    "\n",
    "        'Sodium_Avg_Prior': 'Sodium_Avg_Prior_cat',\n",
    "        'Sodium_Avg_Ever': 'Sodium_Avg_Ever_cat',\n",
    "        'Sodium_Worst_Prior': 'Sodium_Worst_Prior_cat',\n",
    "        'Sodium_Worst_Ever': 'Sodium_Worst_Ever_cat'\n",
    "        \n",
    "3. \n",
    "    - LR AUC = 81% \n",
    "    - RF AUC = 83%\n",
    "    - baseline = 67% without adding calcium or sodium"
   ]
  },
  {
   "cell_type": "code",
   "execution_count": 244,
   "metadata": {},
   "outputs": [],
   "source": [
    "import pandas as pd\n",
    "import numpy as np\n",
    "from matplotlib import pyplot\n",
    "\n",
    "from sklearn.model_selection import KFold, cross_val_predict, cross_validate\n",
    "import sklearn.linear_model as linear_model\n",
    "\n",
    "from sklearn.cross_validation import cross_val_score\n",
    "import seaborn as sns \n",
    "from sklearn.ensemble import RandomForestClassifier\n",
    "\n",
    "from sklearn.metrics import confusion_matrix, classification_report, recall_score, precision_score, f1_score\n",
    "from sklearn.metrics import roc_auc_score\n",
    "from sklearn.metrics import make_scorer\n",
    "\n",
    "import matplotlib.pyplot as plt\n",
    "\n",
    "%matplotlib inline"
   ]
  },
  {
   "cell_type": "code",
   "execution_count": 245,
   "metadata": {},
   "outputs": [
    {
     "name": "stderr",
     "output_type": "stream",
     "text": [
      "/usr/local/lib/python3.6/site-packages/IPython/core/interactiveshell.py:3020: DtypeWarning: Columns (46) have mixed types. Specify dtype option on import or set low_memory=False.\n",
      "  interactivity=interactivity, compiler=compiler, result=result)\n"
     ]
    },
    {
     "data": {
      "text/plain": [
       "(61022, 192)"
      ]
     },
     "execution_count": 245,
     "metadata": {},
     "output_type": "execute_result"
    }
   ],
   "source": [
    "data_osteo = pd.read_csv('osteo_cleaning_BMI_impute.csv') \n",
    "data_osteo.shape"
   ]
  },
  {
   "cell_type": "code",
   "execution_count": 3,
   "metadata": {
    "collapsed": true
   },
   "outputs": [],
   "source": [
    "### check # of missing"
   ]
  },
  {
   "cell_type": "code",
   "execution_count": 246,
   "metadata": {
    "collapsed": true
   },
   "outputs": [],
   "source": [
    "def check_missing(data, var):\n",
    "    print(var)\n",
    "    print('# of missing: ', data[var].isna().sum(), 'out of', data.shape[0])\n",
    "    print('% of missing: ',  data[var].isna().sum()/data.shape[0], '\\n')"
   ]
  },
  {
   "cell_type": "code",
   "execution_count": 247,
   "metadata": {},
   "outputs": [
    {
     "name": "stdout",
     "output_type": "stream",
     "text": [
      "Calcium_Closest_Osteo\n",
      "# of missing:  25454 out of 61022\n",
      "% of missing:  0.4171282488282914 \n",
      "\n",
      "Calcium_Avg_Prior\n",
      "# of missing:  25385 out of 61022\n",
      "% of missing:  0.4159975090950805 \n",
      "\n",
      "Calcium_Avg_Ever\n",
      "# of missing:  6791 out of 61022\n",
      "% of missing:  0.11128773229327128 \n",
      "\n"
     ]
    }
   ],
   "source": [
    "var_Calcium = ['Calcium_Closest_Osteo','Calcium_Avg_Prior', 'Calcium_Avg_Ever']\n",
    "for i in var_Calcium:\n",
    "    check_missing(data_osteo,i)"
   ]
  },
  {
   "cell_type": "code",
   "execution_count": 248,
   "metadata": {},
   "outputs": [
    {
     "name": "stdout",
     "output_type": "stream",
     "text": [
      "Sodium_Closest_Osteo\n",
      "# of missing:  18444 out of 61022\n",
      "% of missing:  0.30225164694700274 \n",
      "\n",
      "Sodium_Avg_Prior\n",
      "# of missing:  19891 out of 61022\n",
      "% of missing:  0.3259644062797024 \n",
      "\n",
      "Sodium_Avg_Ever\n",
      "# of missing:  249 out of 61022\n",
      "% of missing:  0.004080495558978729 \n",
      "\n",
      "Sodium_Worst_Prior\n",
      "# of missing:  19891 out of 61022\n",
      "% of missing:  0.3259644062797024 \n",
      "\n",
      "Sodium_Worst_Ever\n",
      "# of missing:  249 out of 61022\n",
      "% of missing:  0.004080495558978729 \n",
      "\n"
     ]
    }
   ],
   "source": [
    "sodium = ['Sodium_Closest_Osteo','Sodium_Avg_Prior', 'Sodium_Avg_Ever', 'Sodium_Worst_Prior','Sodium_Worst_Ever']\n",
    "for i in sodium:\n",
    "    check_missing(data_osteo,i)"
   ]
  },
  {
   "cell_type": "markdown",
   "metadata": {},
   "source": [
    "--> more missing in before diagnosis "
   ]
  },
  {
   "cell_type": "markdown",
   "metadata": {},
   "source": [
    "## Seperate into decile 10\n",
    "\n",
    "CALCIUM: 'Calcium_Closest_Osteo','Calcium_Avg_Prior',  'Calcium_Avg_Ever', \n",
    "                         \n",
    "SODIUM:  'Sodium_Closest_Osteo','Sodium_Avg_Prior', 'Sodium_Avg_Ever',\n",
    "         'Sodium_Worst_Prior','Sodium_Worst_Ever'"
   ]
  },
  {
   "cell_type": "code",
   "execution_count": 249,
   "metadata": {
    "collapsed": true
   },
   "outputs": [],
   "source": [
    "def decile(data, var, new_var):\n",
    "    '''create 10 bins and discretize data\n",
    "    '''\n",
    "    print(pd.qcut(data[var],10).value_counts()) \n",
    "    data[new_var] = pd.qcut(data[var],10, labels=False) \n",
    "    return pd.qcut(data[var],10, labels=False) "
   ]
  },
  {
   "cell_type": "code",
   "execution_count": 250,
   "metadata": {
    "collapsed": true
   },
   "outputs": [
    {
     "name": "stdout",
     "output_type": "stream",
     "text": [
      "0     18444\n",
      "6      5305\n",
      "7      4993\n",
      "5      4965\n",
      "1      4776\n",
      "4      4265\n",
      "2      4185\n",
      "8      4181\n",
      "10     3854\n",
      "3      3182\n",
      "9      2872\n",
      "Name: Sodium_Closest_Osteo, dtype: int64\n"
     ]
    }
   ],
   "source": [
    "def pct_rank_qcut(series, n):\n",
    "    '''special case for errors in qcut\n",
    "    here missing = 0\n",
    "    '''\n",
    "    edges = pd.Series([float(i) / n for i in range(n + 1)])\n",
    "    f = lambda x: (edges >= x).values.argmax()\n",
    "    print(series.rank(pct=1).apply(f).value_counts())\n",
    "    return series.rank(pct=1).apply(f)\n",
    "data_osteo['Sodium_Closest_Osteo_decile'] = pct_rank_qcut(data_osteo['Sodium_Closest_Osteo'], 10)"
   ]
  },
  {
   "cell_type": "code",
   "execution_count": 251,
   "metadata": {
    "collapsed": true
   },
   "outputs": [
    {
     "name": "stdout",
     "output_type": "stream",
     "text": [
      "(7.8, 8.4]      4434\n",
      "(9.1, 9.3]      4097\n",
      "(9.6, 9.9]      3905\n",
      "(8.4, 8.7]      3834\n",
      "(8.9, 9.1]      3813\n",
      "(0.599, 7.8]    3632\n",
      "(9.4, 9.6]      3521\n",
      "(8.7, 8.9]      3216\n",
      "(9.9, 84.0]     3113\n",
      "(9.3, 9.4]      2003\n",
      "Name: Calcium_Closest_Osteo, dtype: int64\n",
      "(9.2, 9.4]        4207\n",
      "(9.577, 9.8]      3725\n",
      "(9.054, 9.2]      3725\n",
      "(8.349, 8.64]     3575\n",
      "(7.781, 8.349]    3564\n",
      "(0.749, 7.781]    3564\n",
      "(8.64, 8.867]     3560\n",
      "(8.867, 9.054]    3556\n",
      "(9.8, 37.4]       3402\n",
      "(9.4, 9.577]      2759\n",
      "Name: Calcium_Avg_Prior, dtype: int64\n",
      "(9.225, 9.4]      6363\n",
      "(9.567, 9.8]      5857\n",
      "(8.87, 9.067]     5473\n",
      "(9.067, 9.225]    5427\n",
      "(7.609, 8.294]    5424\n",
      "(0.749, 7.609]    5424\n",
      "(8.294, 8.623]    5423\n",
      "(8.623, 8.87]     5422\n",
      "(9.8, 117.883]    4876\n",
      "(9.4, 9.567]      4542\n",
      "Name: Calcium_Avg_Ever, dtype: int64\n",
      "(138.154, 139.0]      5015\n",
      "(140.393, 141.0]      4983\n",
      "(141.0, 142.0]        4962\n",
      "(9.999, 135.333]      4142\n",
      "(135.333, 137.0]      4129\n",
      "(139.833, 140.393]    4086\n",
      "(137.0, 138.154]      4073\n",
      "(143.0, 1212.0]       3346\n",
      "(139.0, 139.833]      3234\n",
      "(142.0, 143.0]        3161\n",
      "Name: Sodium_Avg_Prior, dtype: int64\n",
      "(140.252, 141.0]      8517\n",
      "(138.286, 139.0]      6787\n",
      "(9.999, 135.5]        6208\n",
      "(141.54, 142.5]       6123\n",
      "(137.25, 138.286]     6082\n",
      "(139.714, 140.252]    6069\n",
      "(142.5, 1212.0]       6032\n",
      "(135.5, 137.25]       5951\n",
      "(139.0, 139.714]      5367\n",
      "(141.0, 141.54]       3637\n",
      "Name: Sodium_Avg_Ever, dtype: int64\n",
      "(134.0, 136.0]     6100\n",
      "(3.799, 132.0]     5242\n",
      "(138.0, 139.0]     4644\n",
      "(137.0, 138.0]     4575\n",
      "(139.0, 140.0]     4124\n",
      "(136.0, 137.0]     4032\n",
      "(132.0, 134.0]     3800\n",
      "(140.0, 141.0]     3260\n",
      "(142.0, 1212.0]    3087\n",
      "(141.0, 142.0]     2267\n",
      "Name: Sodium_Worst_Prior, dtype: int64\n",
      "(133.0, 135.0]                 8391\n",
      "(130.0, 133.0]                 7167\n",
      "(137.0, 138.0]                 6924\n",
      "(136.0, 137.0]                 6498\n",
      "(1.3590000000000002, 130.0]    6447\n",
      "(138.0, 139.0]                 6380\n",
      "(135.0, 136.0]                 5615\n",
      "(139.0, 140.0]                 5155\n",
      "(141.0, 1212.0]                4607\n",
      "(140.0, 141.0]                 3589\n",
      "Name: Sodium_Worst_Ever, dtype: int64\n"
     ]
    }
   ],
   "source": [
    "#create discretize var + add to df\n",
    "dic = {'Calcium_Closest_Osteo': 'Calcium_Closest_Osteo_decile', \n",
    "      'Calcium_Avg_Prior': 'Calcium_Avg_Prior_decile',\n",
    "      'Calcium_Avg_Ever': 'Calcium_Avg_Ever_decile',\n",
    "#     'Sodium_Closest_Osteo': 'Sodium_Closest_Osteo_decile',\n",
    "    'Sodium_Avg_Prior': 'Sodium_Avg_Prior_decile',\n",
    "    'Sodium_Avg_Ever': 'Sodium_Avg_Ever_decile',\n",
    "    'Sodium_Worst_Prior': 'Sodium_Worst_Prior_decile',\n",
    "    'Sodium_Worst_Ever': 'Sodium_Worst_Ever_decile'}\n",
    "\n",
    "for i,j in dic.items():\n",
    "    decile(data_osteo, i,j) "
   ]
  },
  {
   "cell_type": "markdown",
   "metadata": {},
   "source": [
    "## Creating category (0 = missing, 1 = non-missing)"
   ]
  },
  {
   "cell_type": "code",
   "execution_count": 259,
   "metadata": {},
   "outputs": [],
   "source": [
    "def present_absence(data, var, new_var):\n",
    "    ''' create var: 0 = missing, 1 = non-missing\n",
    "    '''\n",
    "    print('# of missing: ', data[var].isna().sum())\n",
    "        \n",
    "    not_missing = pd.notna(data[var])\n",
    "    b = []\n",
    "    for i in not_missing:\n",
    "        if i == True:\n",
    "            b.append(1)\n",
    "        if i == False:\n",
    "            b.append(0)\n",
    "\n",
    "    import collections\n",
    "    counter=collections.Counter(b)\n",
    "    print(counter)\n",
    "    data[new_var] = b"
   ]
  },
  {
   "cell_type": "code",
   "execution_count": 260,
   "metadata": {
    "collapsed": true
   },
   "outputs": [
    {
     "name": "stdout",
     "output_type": "stream",
     "text": [
      "var:  Calcium_Closest_Osteo\n",
      "# of missing:  25454\n",
      "Counter({1: 35568, 0: 25454})\n",
      " \n",
      "var:  Calcium_Avg_Prior\n",
      "# of missing:  25385\n",
      "Counter({1: 35637, 0: 25385})\n",
      " \n",
      "var:  Calcium_Avg_Ever\n",
      "# of missing:  6791\n",
      "Counter({1: 54231, 0: 6791})\n",
      " \n",
      "var:  Sodium_Avg_Prior\n",
      "# of missing:  19891\n",
      "Counter({1: 41131, 0: 19891})\n",
      " \n",
      "var:  Sodium_Avg_Ever\n",
      "# of missing:  249\n",
      "Counter({1: 60773, 0: 249})\n",
      " \n",
      "var:  Sodium_Worst_Prior\n",
      "# of missing:  19891\n",
      "Counter({1: 41131, 0: 19891})\n",
      " \n",
      "var:  Sodium_Worst_Ever\n",
      "# of missing:  249\n",
      "Counter({1: 60773, 0: 249})\n",
      " \n"
     ]
    }
   ],
   "source": [
    "#create absence/present var + add to df\n",
    "dic = {'Calcium_Closest_Osteo': 'Calcium_Closest_Osteo_cat', \n",
    "      'Calcium_Avg_Prior': 'Calcium_Avg_Prior_cat',\n",
    "      'Calcium_Avg_Ever': 'Calcium_Avg_Ever_cat',\n",
    "#     'Sodium_Closest_Osteo': 'Sodium_Closest_Osteo_decile',\n",
    "    'Sodium_Avg_Prior': 'Sodium_Avg_Prior_cat',\n",
    "    'Sodium_Avg_Ever': 'Sodium_Avg_Ever_cat',\n",
    "    'Sodium_Worst_Prior': 'Sodium_Worst_Prior_cat',\n",
    "    'Sodium_Worst_Ever': 'Sodium_Worst_Ever_cat'}\n",
    "\n",
    "for i,j in dic.items():\n",
    "    print('var: ', i)\n",
    "    present_absence(data_osteo, i,j)\n",
    "    print(' ')"
   ]
  },
  {
   "cell_type": "code",
   "execution_count": 261,
   "metadata": {},
   "outputs": [
    {
     "data": {
      "text/plain": [
       "(61022, 207)"
      ]
     },
     "execution_count": 261,
     "metadata": {},
     "output_type": "execute_result"
    }
   ],
   "source": [
    "data_osteo.shape"
   ]
  },
  {
   "cell_type": "code",
   "execution_count": 262,
   "metadata": {
    "collapsed": true
   },
   "outputs": [],
   "source": [
    "#export to dataset\n",
    "data_osteo.to_csv('osteo_discretized.csv')"
   ]
  },
  {
   "cell_type": "code",
   "execution_count": 263,
   "metadata": {},
   "outputs": [
    {
     "data": {
      "text/plain": [
       "Index(['_Imputation_', 'patientid', 'sex', 'Race', 'Ethnicity', 'DOB',\n",
       "       'ENC_DATE1', 'ENC_DATE2', 'Enc_Mth_Diff', 'Enc_Day_Diff',\n",
       "       ...\n",
       "       'Sodium_Avg_Ever_decile', 'Sodium_Worst_Prior_decile',\n",
       "       'Sodium_Worst_Ever_decile', 'Calcium_Closest_Osteo_cat',\n",
       "       'Calcium_Avg_Prior_cat', 'Calcium_Avg_Ever_cat', 'Sodium_Avg_Prior_cat',\n",
       "       'Sodium_Avg_Ever_cat', 'Sodium_Worst_Prior_cat',\n",
       "       'Sodium_Worst_Ever_cat'],\n",
       "      dtype='object', length=207)"
      ]
     },
     "execution_count": 263,
     "metadata": {},
     "output_type": "execute_result"
    }
   ],
   "source": [
    "data_osteo.columns"
   ]
  },
  {
   "cell_type": "markdown",
   "metadata": {},
   "source": [
    "## Observations 1     (% of missing across subgroups)"
   ]
  },
  {
   "cell_type": "code",
   "execution_count": 264,
   "metadata": {
    "collapsed": true
   },
   "outputs": [],
   "source": [
    "def check_across_subgroup(data, col, row):\n",
    "    return pd.crosstab(index=data[col], columns=data[row], margins = True)/data.shape[0]"
   ]
  },
  {
   "cell_type": "code",
   "execution_count": 265,
   "metadata": {
    "collapsed": true
   },
   "outputs": [
    {
     "name": "stdout",
     "output_type": "stream",
     "text": [
      "sex                               F         M       All\n",
      "Calcium_Closest_Osteo_cat                              \n",
      "0                          0.374701  0.042427  0.417128\n",
      "1                          0.507800  0.075071  0.582872\n",
      "All                        0.882501  0.117499  1.000000 \n",
      "\n",
      "sex                           F         M       All\n",
      "Calcium_Avg_Prior_cat                              \n",
      "0                      0.371620  0.044377  0.415998\n",
      "1                      0.510881  0.073121  0.584002\n",
      "All                    0.882501  0.117499  1.000000 \n",
      "\n",
      "sex                          F         M       All\n",
      "Calcium_Avg_Ever_cat                              \n",
      "0                     0.097834  0.013454  0.111288\n",
      "1                     0.784668  0.104044  0.888712\n",
      "All                   0.882501  0.117499  1.000000 \n",
      "\n",
      "sex                          F         M       All\n",
      "Sodium_Avg_Prior_cat                              \n",
      "0                     0.297925  0.028039  0.325964\n",
      "1                     0.584576  0.089460  0.674036\n",
      "All                   0.882501  0.117499  1.000000 \n",
      "\n",
      "sex                         F         M      All\n",
      "Sodium_Avg_Ever_cat                             \n",
      "0                    0.003540  0.000541  0.00408\n",
      "1                    0.878962  0.116958  0.99592\n",
      "All                  0.882501  0.117499  1.00000 \n",
      "\n",
      "sex                            F         M       All\n",
      "Sodium_Worst_Prior_cat                              \n",
      "0                       0.297925  0.028039  0.325964\n",
      "1                       0.584576  0.089460  0.674036\n",
      "All                     0.882501  0.117499  1.000000 \n",
      "\n",
      "sex                           F         M      All\n",
      "Sodium_Worst_Ever_cat                             \n",
      "0                      0.003540  0.000541  0.00408\n",
      "1                      0.878962  0.116958  0.99592\n",
      "All                    0.882501  0.117499  1.00000 \n",
      "\n"
     ]
    }
   ],
   "source": [
    "var=['Calcium_Closest_Osteo_cat', 'Calcium_Avg_Prior_cat','Calcium_Avg_Ever_cat','Sodium_Avg_Prior_cat',\n",
    "   'Sodium_Avg_Ever_cat','Sodium_Worst_Prior_cat','Sodium_Worst_Ever_cat']\n",
    "\n",
    "for i in var:\n",
    "    print(check_across_subgroup(data_osteo, i, 'sex'), '\\n')"
   ]
  },
  {
   "cell_type": "markdown",
   "metadata": {},
   "source": [
    "### --> missing(female) > missing(male)"
   ]
  },
  {
   "cell_type": "code",
   "execution_count": 266,
   "metadata": {},
   "outputs": [
    {
     "name": "stdout",
     "output_type": "stream",
     "text": [
      "osteo_predict                     0         1       All\n",
      "Calcium_Closest_Osteo_cat                              \n",
      "0                          0.170856  0.246272  0.417128\n",
      "1                          0.329144  0.253728  0.582872\n",
      "All                        0.500000  0.500000  1.000000 \n",
      "\n",
      "osteo_predict                 0         1       All\n",
      "Calcium_Avg_Prior_cat                              \n",
      "0                      0.174511  0.241487  0.415998\n",
      "1                      0.325489  0.258513  0.584002\n",
      "All                    0.500000  0.500000  1.000000 \n",
      "\n",
      "osteo_predict                0         1       All\n",
      "Calcium_Avg_Ever_cat                              \n",
      "0                     0.009275  0.102012  0.111288\n",
      "1                     0.490725  0.397988  0.888712\n",
      "All                   0.500000  0.500000  1.000000 \n",
      "\n",
      "osteo_predict                0         1       All\n",
      "Sodium_Avg_Prior_cat                              \n",
      "0                     0.168382  0.157583  0.325964\n",
      "1                     0.331618  0.342417  0.674036\n",
      "All                   0.500000  0.500000  1.000000 \n",
      "\n",
      "osteo_predict              0    1      All\n",
      "Sodium_Avg_Ever_cat                       \n",
      "0                    0.00408  0.0  0.00408\n",
      "1                    0.49592  0.5  0.99592\n",
      "All                  0.50000  0.5  1.00000 \n",
      "\n",
      "osteo_predict                  0         1       All\n",
      "Sodium_Worst_Prior_cat                              \n",
      "0                       0.168382  0.157583  0.325964\n",
      "1                       0.331618  0.342417  0.674036\n",
      "All                     0.500000  0.500000  1.000000 \n",
      "\n",
      "osteo_predict                0    1      All\n",
      "Sodium_Worst_Ever_cat                       \n",
      "0                      0.00408  0.0  0.00408\n",
      "1                      0.49592  0.5  0.99592\n",
      "All                    0.50000  0.5  1.00000 \n",
      "\n"
     ]
    }
   ],
   "source": [
    "var=['Calcium_Closest_Osteo_cat', 'Calcium_Avg_Prior_cat','Calcium_Avg_Ever_cat','Sodium_Avg_Prior_cat',\n",
    "   'Sodium_Avg_Ever_cat','Sodium_Worst_Prior_cat','Sodium_Worst_Ever_cat']\n",
    "\n",
    "for i in var:\n",
    "    print(check_across_subgroup(data_osteo, i, 'osteo_predict'), '\\n')"
   ]
  },
  {
   "cell_type": "markdown",
   "metadata": {},
   "source": [
    "### ---> in calcium: missing (osteo_positive) > missing (osteo_neg)\n",
    "### opposite for sodium"
   ]
  },
  {
   "cell_type": "markdown",
   "metadata": {},
   "source": [
    "## Observation 2:  Among all missing, % of female/male comparing to class labels( osteo_pos/osteo_neg)"
   ]
  },
  {
   "cell_type": "code",
   "execution_count": 273,
   "metadata": {
    "collapsed": true
   },
   "outputs": [],
   "source": [
    "def extract_outliers(data, variable, threshold, side):\n",
    "    if side == \"greater\":\n",
    "        print('# of outliers: ', data.loc[data[variable] >= threshold][variable].count())\n",
    "        return data.loc[data[variable] >= threshold][variable]\n",
    "    if side == \"less\":\n",
    "        print('# of outliers: ', data.loc[data[variable] <= threshold][variable].count())\n",
    "        return data.loc[data[variable] <= threshold]\n",
    "    if side == 'equal':\n",
    "        print('# of outliers: ', data.loc[data[variable] == threshold][variable].count())\n",
    "        return data.loc[data[variable] == threshold]"
   ]
  },
  {
   "cell_type": "code",
   "execution_count": 274,
   "metadata": {
    "collapsed": true
   },
   "outputs": [],
   "source": [
    "def extract_missing_check_subgroup(data, var1, var2, var3):\n",
    "    print('# of rows: \\n', data[var1].value_counts())\n",
    "    calculate_missing = extract_outliers(data, var1, 0, 'equal')\n",
    "    print(check_across_subgroup(calculate_missing, var2, var3)) "
   ]
  },
  {
   "cell_type": "code",
   "execution_count": 276,
   "metadata": {},
   "outputs": [
    {
     "name": "stdout",
     "output_type": "stream",
     "text": [
      "# of rows: \n",
      " 1    35568\n",
      "0    25454\n",
      "Name: Calcium_Closest_Osteo_cat, dtype: int64\n",
      "# of outliers:  25454\n",
      "osteo_predict         0         1       All\n",
      "sex                                        \n",
      "F              0.366151  0.532136  0.898287\n",
      "M              0.043451  0.058262  0.101713\n",
      "All            0.409602  0.590398  1.000000\n",
      " \n",
      "# of rows: \n",
      " 1    35637\n",
      "0    25385\n",
      "Name: Calcium_Avg_Prior_cat, dtype: int64\n",
      "# of outliers:  25385\n",
      "osteo_predict         0         1       All\n",
      "sex                                        \n",
      "F              0.375261  0.518062  0.893323\n",
      "M              0.044239  0.062438  0.106677\n",
      "All            0.419500  0.580500  1.000000\n",
      " \n",
      "# of rows: \n",
      " 1    54231\n",
      "0     6791\n",
      "Name: Calcium_Avg_Ever_cat, dtype: int64\n",
      "# of outliers:  6791\n",
      "osteo_predict         0         1       All\n",
      "sex                                        \n",
      "F              0.070976  0.808128  0.879105\n",
      "M              0.012369  0.108526  0.120895\n",
      "All            0.083346  0.916654  1.000000\n",
      " \n",
      "# of rows: \n",
      " 1    41131\n",
      "0    19891\n",
      "Name: Sodium_Avg_Prior_cat, dtype: int64\n",
      "# of outliers:  19891\n",
      "osteo_predict         0         1       All\n",
      "sex                                        \n",
      "F              0.462923  0.451058  0.913981\n",
      "M              0.053642  0.032376  0.086019\n",
      "All            0.516565  0.483435  1.000000\n",
      " \n",
      "# of rows: \n",
      " 1    60773\n",
      "0      249\n",
      "Name: Sodium_Avg_Ever_cat, dtype: int64\n",
      "# of outliers:  249\n",
      "osteo_predict        0      All\n",
      "sex                            \n",
      "F              0.86747  0.86747\n",
      "M              0.13253  0.13253\n",
      "All            1.00000  1.00000\n",
      " \n",
      "# of rows: \n",
      " 1    41131\n",
      "0    19891\n",
      "Name: Sodium_Worst_Prior_cat, dtype: int64\n",
      "# of outliers:  19891\n",
      "osteo_predict         0         1       All\n",
      "sex                                        \n",
      "F              0.462923  0.451058  0.913981\n",
      "M              0.053642  0.032376  0.086019\n",
      "All            0.516565  0.483435  1.000000\n",
      " \n",
      "# of rows: \n",
      " 1    60773\n",
      "0      249\n",
      "Name: Sodium_Worst_Ever_cat, dtype: int64\n",
      "# of outliers:  249\n",
      "osteo_predict        0      All\n",
      "sex                            \n",
      "F              0.86747  0.86747\n",
      "M              0.13253  0.13253\n",
      "All            1.00000  1.00000\n",
      " \n"
     ]
    }
   ],
   "source": [
    "var = ['Calcium_Closest_Osteo_cat', 'Calcium_Avg_Prior_cat','Calcium_Avg_Ever_cat','Sodium_Avg_Prior_cat',\n",
    "   'Sodium_Avg_Ever_cat','Sodium_Worst_Prior_cat','Sodium_Worst_Ever_cat']\n",
    "for i in var:\n",
    "    extract_missing_check_subgroup(data_osteo, i, 'sex', 'osteo_predict')\n",
    "    print(' ') "
   ]
  },
  {
   "cell_type": "markdown",
   "metadata": {},
   "source": [
    "### --> among all the missing, in calcium: female(positive) is dominant\n",
    "### sodium is opposite"
   ]
  },
  {
   "cell_type": "code",
   "execution_count": 278,
   "metadata": {
    "collapsed": true
   },
   "outputs": [
    {
     "name": "stdout",
     "output_type": "stream",
     "text": [
      "# of rows: \n",
      " 1    35568\n",
      "0    25454\n",
      "Name: Calcium_Closest_Osteo_cat, dtype: int64\n",
      "# of outliers:  25454\n",
      "osteo_predict            0         1       All\n",
      "Race_Cat_combine                              \n",
      "black             0.111810  0.162057  0.273867\n",
      "others            0.061876  0.059480  0.121356\n",
      "white             0.235916  0.368861  0.604777\n",
      "All               0.409602  0.590398  1.000000\n",
      " \n",
      "# of rows: \n",
      " 1    35637\n",
      "0    25385\n",
      "Name: Calcium_Avg_Prior_cat, dtype: int64\n",
      "# of outliers:  25385\n",
      "osteo_predict            0         1       All\n",
      "Race_Cat_combine                              \n",
      "black             0.114201  0.167185  0.281387\n",
      "others            0.066496  0.080126  0.146622\n",
      "white             0.238802  0.333189  0.571991\n",
      "All               0.419500  0.580500  1.000000\n",
      " \n",
      "# of rows: \n",
      " 1    54231\n",
      "0     6791\n",
      "Name: Calcium_Avg_Ever_cat, dtype: int64\n",
      "# of outliers:  6791\n",
      "osteo_predict            0         1       All\n",
      "Race_Cat_combine                              \n",
      "black             0.014873  0.253865  0.268738\n",
      "others            0.014431  0.052717  0.067148\n",
      "white             0.054042  0.610072  0.664114\n",
      "All               0.083346  0.916654  1.000000\n",
      " \n",
      "# of rows: \n",
      " 1    41131\n",
      "0    19891\n",
      "Name: Sodium_Avg_Prior_cat, dtype: int64\n",
      "# of outliers:  19891\n",
      "osteo_predict            0         1       All\n",
      "Race_Cat_combine                              \n",
      "black             0.145292  0.112563  0.257855\n",
      "others            0.084309  0.087175  0.171485\n",
      "white             0.286964  0.283696  0.570660\n",
      "All               0.516565  0.483435  1.000000\n",
      " \n",
      "# of rows: \n",
      " 1    60773\n",
      "0      249\n",
      "Name: Sodium_Avg_Ever_cat, dtype: int64\n",
      "# of outliers:  249\n",
      "osteo_predict            0       All\n",
      "Race_Cat_combine                    \n",
      "black             0.269076  0.269076\n",
      "others            0.313253  0.313253\n",
      "white             0.417671  0.417671\n",
      "All               1.000000  1.000000\n",
      " \n",
      "# of rows: \n",
      " 1    41131\n",
      "0    19891\n",
      "Name: Sodium_Worst_Prior_cat, dtype: int64\n",
      "# of outliers:  19891\n",
      "osteo_predict            0         1       All\n",
      "Race_Cat_combine                              \n",
      "black             0.145292  0.112563  0.257855\n",
      "others            0.084309  0.087175  0.171485\n",
      "white             0.286964  0.283696  0.570660\n",
      "All               0.516565  0.483435  1.000000\n",
      " \n",
      "# of rows: \n",
      " 1    60773\n",
      "0      249\n",
      "Name: Sodium_Worst_Ever_cat, dtype: int64\n",
      "# of outliers:  249\n",
      "osteo_predict            0       All\n",
      "Race_Cat_combine                    \n",
      "black             0.269076  0.269076\n",
      "others            0.313253  0.313253\n",
      "white             0.417671  0.417671\n",
      "All               1.000000  1.000000\n",
      " \n"
     ]
    }
   ],
   "source": [
    "var = ['Calcium_Closest_Osteo_cat', 'Calcium_Avg_Prior_cat','Calcium_Avg_Ever_cat','Sodium_Avg_Prior_cat',\n",
    "   'Sodium_Avg_Ever_cat','Sodium_Worst_Prior_cat','Sodium_Worst_Ever_cat']\n",
    "for i in var:\n",
    "    extract_missing_check_subgroup(data_osteo, i,'Race_Cat_combine' , 'osteo_predict')\n",
    "    print(' ') "
   ]
  },
  {
   "cell_type": "markdown",
   "metadata": {},
   "source": [
    "### --> among all the missing, white(positive) "
   ]
  },
  {
   "cell_type": "code",
   "execution_count": 279,
   "metadata": {},
   "outputs": [
    {
     "name": "stdout",
     "output_type": "stream",
     "text": [
      "# of rows: \n",
      " 1    35568\n",
      "0    25454\n",
      "Name: Calcium_Closest_Osteo_cat, dtype: int64\n",
      "# of outliers:  25454\n",
      "osteo_predict         0         1       All\n",
      "Age_combine                                \n",
      "from_30_to_50  0.050915  0.058812  0.109727\n",
      "from_50_to_70  0.186847  0.244323  0.431170\n",
      "from_70_to_80  0.096841  0.152039  0.248880\n",
      "less_than_30   0.008329  0.007700  0.016029\n",
      "more_than_80   0.066669  0.127524  0.194193\n",
      "All            0.409602  0.590398  1.000000\n",
      " \n",
      "# of rows: \n",
      " 1    35637\n",
      "0    25385\n",
      "Name: Calcium_Avg_Prior_cat, dtype: int64\n",
      "# of outliers:  25385\n",
      "osteo_predict         0         1       All\n",
      "Age_combine                                \n",
      "from_30_to_50  0.052039  0.061257  0.113295\n",
      "from_50_to_70  0.190270  0.256136  0.446405\n",
      "from_70_to_80  0.099389  0.140358  0.239748\n",
      "less_than_30   0.008312  0.008667  0.016979\n",
      "more_than_80   0.069490  0.114083  0.183573\n",
      "All            0.419500  0.580500  1.000000\n",
      " \n",
      "# of rows: \n",
      " 1    54231\n",
      "0     6791\n",
      "Name: Calcium_Avg_Ever_cat, dtype: int64\n",
      "# of outliers:  6791\n",
      "osteo_predict         0         1       All\n",
      "Age_combine                                \n",
      "from_30_to_50  0.012958  0.079812  0.092770\n",
      "from_50_to_70  0.038580  0.330437  0.369018\n",
      "from_70_to_80  0.018407  0.243410  0.261817\n",
      "less_than_30   0.002651  0.010308  0.012958\n",
      "more_than_80   0.010750  0.252687  0.263437\n",
      "All            0.083346  0.916654  1.000000\n",
      " \n",
      "# of rows: \n",
      " 1    41131\n",
      "0    19891\n",
      "Name: Sodium_Avg_Prior_cat, dtype: int64\n",
      "# of outliers:  19891\n",
      "osteo_predict         0         1       All\n",
      "Age_combine                                \n",
      "from_30_to_50  0.063747  0.048917  0.112664\n",
      "from_50_to_70  0.236288  0.221356  0.457644\n",
      "from_70_to_80  0.121412  0.113669  0.235081\n",
      "less_than_30   0.010206  0.006435  0.016641\n",
      "more_than_80   0.084913  0.093057  0.177970\n",
      "All            0.516565  0.483435  1.000000\n",
      " \n",
      "# of rows: \n",
      " 1    60773\n",
      "0      249\n",
      "Name: Sodium_Avg_Ever_cat, dtype: int64\n",
      "# of outliers:  249\n",
      "osteo_predict         0       All\n",
      "Age_combine                      \n",
      "from_30_to_50  0.156627  0.156627\n",
      "from_50_to_70  0.534137  0.534137\n",
      "from_70_to_80  0.176707  0.176707\n",
      "less_than_30   0.044177  0.044177\n",
      "more_than_80   0.088353  0.088353\n",
      "All            1.000000  1.000000\n",
      " \n",
      "# of rows: \n",
      " 1    41131\n",
      "0    19891\n",
      "Name: Sodium_Worst_Prior_cat, dtype: int64\n",
      "# of outliers:  19891\n",
      "osteo_predict         0         1       All\n",
      "Age_combine                                \n",
      "from_30_to_50  0.063747  0.048917  0.112664\n",
      "from_50_to_70  0.236288  0.221356  0.457644\n",
      "from_70_to_80  0.121412  0.113669  0.235081\n",
      "less_than_30   0.010206  0.006435  0.016641\n",
      "more_than_80   0.084913  0.093057  0.177970\n",
      "All            0.516565  0.483435  1.000000\n",
      " \n",
      "# of rows: \n",
      " 1    60773\n",
      "0      249\n",
      "Name: Sodium_Worst_Ever_cat, dtype: int64\n",
      "# of outliers:  249\n",
      "osteo_predict         0       All\n",
      "Age_combine                      \n",
      "from_30_to_50  0.156627  0.156627\n",
      "from_50_to_70  0.534137  0.534137\n",
      "from_70_to_80  0.176707  0.176707\n",
      "less_than_30   0.044177  0.044177\n",
      "more_than_80   0.088353  0.088353\n",
      "All            1.000000  1.000000\n",
      " \n"
     ]
    }
   ],
   "source": [
    "var = ['Calcium_Closest_Osteo_cat', 'Calcium_Avg_Prior_cat','Calcium_Avg_Ever_cat','Sodium_Avg_Prior_cat',\n",
    "   'Sodium_Avg_Ever_cat','Sodium_Worst_Prior_cat','Sodium_Worst_Ever_cat']\n",
    "for i in var:\n",
    "    extract_missing_check_subgroup(data_osteo, i,'Age_combine' , 'osteo_predict')\n",
    "    print(' ') "
   ]
  },
  {
   "cell_type": "markdown",
   "metadata": {},
   "source": [
    "### Run LOGISTICS REGRESSION"
   ]
  },
  {
   "cell_type": "code",
   "execution_count": 280,
   "metadata": {},
   "outputs": [
    {
     "data": {
      "text/plain": [
       "(61022, 43)"
      ]
     },
     "execution_count": 280,
     "metadata": {},
     "output_type": "execute_result"
    }
   ],
   "source": [
    "# extract needed columns\n",
    "osteo_extract_filter = data_osteo.filter(['Strata','sex','Race_Cat_combine', 'Age_combine','osteo_predict', 'BMI_Avg_imputed', \n",
    "     'Alcohol_Prior', 'Tobacco_Prior','Drug_antipsych_prior', 'Drug_Estrogens_prior', 'Drug_Glucocorticoids_prior',\n",
    "    'Drug_Nsaids_prior', 'Drug_Opiates_prior', 'Drug_Thiazide_prior','Drug_Loop_Diuretic_Prior',\n",
    "      'Drug_Pp_inhibitors_prior',  'Drug_Progesterone_prior',   'Drug_Seizure_prior',  'Drug_Ssris_prior',\n",
    " 'Drug_Tc_antidepress_prior',  'HeartDisease_Prior',  'Liver_Prior', 'PulmDisease_Prior',  'CNS_Disease_Prior',                                               \n",
    " 'Malignancy_Prior','Hyponatremia_Prior','Chronic_Hyponatremia', 'Recent_Hyponatremia',\n",
    "                                          \n",
    "    'Calcium_Closest_Osteo_decile','Calcium_Avg_Prior_decile','Calcium_Avg_Ever_decile','Sodium_Closest_Osteo_decile',\n",
    "    \n",
    "    'Sodium_Avg_Prior_decile','Sodium_Avg_Ever_decile','Sodium_Worst_Prior_decile','Sodium_Worst_Ever_decile',\n",
    "    'Calcium_Closest_Osteo_cat', 'Calcium_Avg_Prior_cat','Calcium_Avg_Ever_cat','Sodium_Avg_Prior_cat',\n",
    "   'Sodium_Avg_Ever_cat','Sodium_Worst_Prior_cat','Sodium_Worst_Ever_cat']) \n",
    "\n",
    "osteo_extract_filter.shape"
   ]
  },
  {
   "cell_type": "code",
   "execution_count": 281,
   "metadata": {},
   "outputs": [
    {
     "data": {
      "text/plain": [
       "Index(['Strata', 'sex', 'Race_Cat_combine', 'Age_combine', 'osteo_predict',\n",
       "       'BMI_Avg_imputed', 'Alcohol_Prior', 'Tobacco_Prior',\n",
       "       'Drug_antipsych_prior', 'Drug_Estrogens_prior',\n",
       "       'Drug_Glucocorticoids_prior', 'Drug_Nsaids_prior', 'Drug_Opiates_prior',\n",
       "       'Drug_Thiazide_prior', 'Drug_Loop_Diuretic_Prior',\n",
       "       'Drug_Pp_inhibitors_prior', 'Drug_Progesterone_prior',\n",
       "       'Drug_Seizure_prior', 'Drug_Ssris_prior', 'Drug_Tc_antidepress_prior',\n",
       "       'HeartDisease_Prior', 'Liver_Prior', 'PulmDisease_Prior',\n",
       "       'CNS_Disease_Prior', 'Malignancy_Prior', 'Hyponatremia_Prior',\n",
       "       'Chronic_Hyponatremia', 'Recent_Hyponatremia',\n",
       "       'Calcium_Closest_Osteo_decile', 'Calcium_Avg_Prior_decile',\n",
       "       'Calcium_Avg_Ever_decile', 'Sodium_Closest_Osteo_decile',\n",
       "       'Sodium_Avg_Prior_decile', 'Sodium_Avg_Ever_decile',\n",
       "       'Sodium_Worst_Prior_decile', 'Sodium_Worst_Ever_decile',\n",
       "       'Calcium_Closest_Osteo_cat', 'Calcium_Avg_Prior_cat',\n",
       "       'Calcium_Avg_Ever_cat', 'Sodium_Avg_Prior_cat', 'Sodium_Avg_Ever_cat',\n",
       "       'Sodium_Worst_Prior_cat', 'Sodium_Worst_Ever_cat'],\n",
       "      dtype='object')"
      ]
     },
     "execution_count": 281,
     "metadata": {},
     "output_type": "execute_result"
    }
   ],
   "source": [
    "osteo_extract_filter.columns"
   ]
  },
  {
   "cell_type": "code",
   "execution_count": 189,
   "metadata": {
    "collapsed": true
   },
   "outputs": [
    {
     "data": {
      "text/plain": [
       "Strata                            int64\n",
       "sex                              object\n",
       "Race_Cat_combine                 object\n",
       "Age_combine                      object\n",
       "osteo_predict                     int64\n",
       "BMI_Avg_imputed                 float64\n",
       "Alcohol_Prior                     int64\n",
       "Tobacco_Prior                     int64\n",
       "Drug_antipsych_prior              int64\n",
       "Drug_Estrogens_prior              int64\n",
       "Drug_Glucocorticoids_prior        int64\n",
       "Drug_Nsaids_prior                 int64\n",
       "Drug_Opiates_prior                int64\n",
       "Drug_Thiazide_prior               int64\n",
       "Drug_Loop_Diuretic_Prior          int64\n",
       "Drug_Pp_inhibitors_prior          int64\n",
       "Drug_Progesterone_prior           int64\n",
       "Drug_Seizure_prior                int64\n",
       "Drug_Ssris_prior                  int64\n",
       "Drug_Tc_antidepress_prior         int64\n",
       "HeartDisease_Prior                int64\n",
       "Liver_Prior                       int64\n",
       "PulmDisease_Prior                 int64\n",
       "CNS_Disease_Prior                 int64\n",
       "Malignancy_Prior                  int64\n",
       "Hyponatremia_Prior                int64\n",
       "Chronic_Hyponatremia              int64\n",
       "Recent_Hyponatremia               int64\n",
       "Calcium_Closest_Osteo_decile    float64\n",
       "Calcium_Avg_Prior_decile        float64\n",
       "Calcium_Avg_Ever_decile         float64\n",
       "Sodium_Closest_Osteo_decile       int64\n",
       "Sodium_Avg_Prior_decile         float64\n",
       "Sodium_Avg_Ever_decile          float64\n",
       "Sodium_Worst_Prior_decile       float64\n",
       "Sodium_Worst_Ever_decile        float64\n",
       "Calcium_Closest_Osteo_cat         int64\n",
       "Calcium_Avg_Prior_cat             int64\n",
       "Calcium_Avg_Ever_cat              int64\n",
       "Sodium_Avg_Prior_cat              int64\n",
       "Sodium_Avg_Ever_cat               int64\n",
       "Sodium_Worst_Prior_cat            int64\n",
       "Sodium_Worst_Ever_cat             int64\n",
       "dtype: object"
      ]
     },
     "execution_count": 189,
     "metadata": {},
     "output_type": "execute_result"
    }
   ],
   "source": [
    "osteo_extract_filter.dtypes"
   ]
  },
  {
   "cell_type": "markdown",
   "metadata": {},
   "source": [
    "## OHE"
   ]
  },
  {
   "cell_type": "code",
   "execution_count": null,
   "metadata": {
    "collapsed": true
   },
   "outputs": [],
   "source": [
    "#need to convert to object datatype\n",
    "    'Calcium_Closest_Osteo_decile', 'Calcium_Avg_Prior_decile','Calcium_Avg_Ever_decile',\n",
    "    'Sodium_Closest_Osteo_decile', 'Sodium_Avg_Prior_decile','Sodium_Avg_Ever_decile','Sodium_Worst_Prior_decile',\n",
    "    'Sodium_Worst_Ever_decile'\n",
    "    'Calcium_Closest_Osteo_cat', 'Calcium_Avg_Prior_cat','Calcium_Avg_Ever_cat',\n",
    "   'Sodium_Avg_Prior_cat', \n",
    "   'Sodium_Avg_Ever_cat',\n",
    "    'Sodium_Worst_Prior_cat',\n",
    "    'Sodium_Worst_Ever_cat'"
   ]
  },
  {
   "cell_type": "code",
   "execution_count": 282,
   "metadata": {},
   "outputs": [],
   "source": [
    "def convert_to_str(data, var):  \n",
    "    print('before convert: ', data[var].dtypes)\n",
    "    data[var] = data[var].astype(str)\n",
    "    print('after convert: ', data[var].dtypes)"
   ]
  },
  {
   "cell_type": "code",
   "execution_count": 283,
   "metadata": {
    "collapsed": true
   },
   "outputs": [
    {
     "name": "stdout",
     "output_type": "stream",
     "text": [
      "Calcium_Closest_Osteo_decile\n",
      "before convert:  float64\n",
      "after convert:  object\n",
      " \n",
      "Calcium_Avg_Prior_decile\n",
      "before convert:  float64\n",
      "after convert:  object\n",
      " \n",
      "Calcium_Avg_Ever_decile\n",
      "before convert:  float64\n",
      "after convert:  object\n",
      " \n",
      "Sodium_Avg_Prior_decile\n",
      "before convert:  float64\n",
      "after convert:  object\n",
      " \n",
      "Sodium_Avg_Ever_decile\n",
      "before convert:  float64\n",
      "after convert:  object\n",
      " \n",
      "Sodium_Worst_Prior_decile\n",
      "before convert:  float64\n",
      "after convert:  object\n",
      " \n",
      "Sodium_Worst_Ever_decile\n",
      "before convert:  float64\n",
      "after convert:  object\n",
      " \n",
      "Sodium_Closest_Osteo_decile\n",
      "before convert:  int64\n",
      "after convert:  object\n",
      " \n",
      "Calcium_Closest_Osteo_cat\n",
      "before convert:  int64\n",
      "after convert:  object\n",
      " \n",
      "Calcium_Avg_Prior_cat\n",
      "before convert:  int64\n",
      "after convert:  object\n",
      " \n",
      "Calcium_Avg_Ever_cat\n",
      "before convert:  int64\n",
      "after convert:  object\n",
      " \n",
      "Sodium_Avg_Prior_cat\n",
      "before convert:  int64\n",
      "after convert:  object\n",
      " \n",
      "Sodium_Avg_Ever_cat\n",
      "before convert:  int64\n",
      "after convert:  object\n",
      " \n",
      "Sodium_Worst_Prior_cat\n",
      "before convert:  int64\n",
      "after convert:  object\n",
      " \n",
      "Sodium_Worst_Ever_cat\n",
      "before convert:  int64\n",
      "after convert:  object\n",
      " \n"
     ]
    }
   ],
   "source": [
    "var = ['Calcium_Closest_Osteo_decile', 'Calcium_Avg_Prior_decile','Calcium_Avg_Ever_decile',\n",
    "    'Sodium_Avg_Prior_decile','Sodium_Avg_Ever_decile','Sodium_Worst_Prior_decile','Sodium_Worst_Ever_decile',  \n",
    "       'Sodium_Closest_Osteo_decile',\n",
    "    'Calcium_Closest_Osteo_cat', 'Calcium_Avg_Prior_cat','Calcium_Avg_Ever_cat',\n",
    "   'Sodium_Avg_Prior_cat','Sodium_Avg_Ever_cat','Sodium_Worst_Prior_cat','Sodium_Worst_Ever_cat']\n",
    "for i in var: \n",
    "    print(i)\n",
    "    convert_to_str(osteo_extract_filter,i)\n",
    "    print(' ')"
   ]
  },
  {
   "cell_type": "code",
   "execution_count": 285,
   "metadata": {},
   "outputs": [
    {
     "name": "stdout",
     "output_type": "stream",
     "text": [
      "(61022, 137)\n"
     ]
    }
   ],
   "source": [
    "# Copy the original data\n",
    "data_OHE = osteo_extract_filter.copy()\n",
    "\n",
    "numeric_subset = data_OHE.select_dtypes('number')\n",
    "categorical_subset = data_OHE.select_dtypes('object')\n",
    "\n",
    "# One hot encode\n",
    "categorical_subset = pd.get_dummies(categorical_subset) \n",
    "\n",
    "# Join the two dataframes using concat. Make sure to use axis = 1 to perform a column bind\n",
    "data_OHE = pd.concat([numeric_subset, categorical_subset], axis = 1)\n",
    "\n",
    "print(data_OHE.shape)"
   ]
  },
  {
   "cell_type": "code",
   "execution_count": 286,
   "metadata": {},
   "outputs": [
    {
     "data": {
      "text/plain": [
       "Index(['Strata', 'osteo_predict', 'BMI_Avg_imputed', 'Alcohol_Prior',\n",
       "       'Tobacco_Prior', 'Drug_antipsych_prior', 'Drug_Estrogens_prior',\n",
       "       'Drug_Glucocorticoids_prior', 'Drug_Nsaids_prior', 'Drug_Opiates_prior',\n",
       "       ...\n",
       "       'Calcium_Avg_Ever_cat_0', 'Calcium_Avg_Ever_cat_1',\n",
       "       'Sodium_Avg_Prior_cat_0', 'Sodium_Avg_Prior_cat_1',\n",
       "       'Sodium_Avg_Ever_cat_0', 'Sodium_Avg_Ever_cat_1',\n",
       "       'Sodium_Worst_Prior_cat_0', 'Sodium_Worst_Prior_cat_1',\n",
       "       'Sodium_Worst_Ever_cat_0', 'Sodium_Worst_Ever_cat_1'],\n",
       "      dtype='object', length=137)"
      ]
     },
     "execution_count": 286,
     "metadata": {},
     "output_type": "execute_result"
    }
   ],
   "source": [
    "data_OHE.columns"
   ]
  },
  {
   "cell_type": "markdown",
   "metadata": {},
   "source": [
    "## LR"
   ]
  },
  {
   "cell_type": "code",
   "execution_count": 287,
   "metadata": {},
   "outputs": [],
   "source": [
    "fold = KFold(10, shuffle = True, random_state = 12345)\n",
    "\n",
    "strata = data_OHE['Strata'].unique() \n",
    "\n",
    "all_preds = np.full(data_OHE.shape[0], 100)\n",
    "probability = np.ones(data_OHE.shape[0])\n",
    "\n",
    "for i, (train_index, test_index) in enumerate(fold.split(strata)):\n",
    "    \n",
    "    train_index_strata = strata[train_index]\n",
    "    test_index_strata = strata[test_index] \n",
    "    \n",
    "    X_train = data_OHE.loc[data_OHE['Strata'].isin(train_index_strata)].drop('osteo_predict', axis = 1)\n",
    "    X_test = data_OHE.loc[data_OHE['Strata'].isin(test_index_strata)].drop('osteo_predict', axis = 1)\n",
    "     \n",
    "    y_train = data_OHE.loc[data_OHE['Strata'].isin(train_index_strata)]['osteo_predict']\n",
    "    y_test = data_OHE.loc[data_OHE['Strata'].isin(test_index_strata)]['osteo_predict']\n",
    "\n",
    "    lr = linear_model.LogisticRegression() \n",
    "    fit = lr.fit(X_train, y_train)\n",
    "    \n",
    "    y_pred = lr.predict(X_test)\n",
    "    all_preds[y_test.index] = y_pred\n",
    "    \n",
    "    probs = lr.predict_proba(X_test)\n",
    "    probability[y_test.index] = probs[:, 1]\n",
    " \n",
    "#     print(classification_report(y_test, y_pred))"
   ]
  },
  {
   "cell_type": "code",
   "execution_count": 288,
   "metadata": {
    "scrolled": true
   },
   "outputs": [
    {
     "name": "stdout",
     "output_type": "stream",
     "text": [
      "final result: \n",
      "             precision    recall  f1-score   support\n",
      "\n",
      "          0       0.71      0.79      0.75     30511\n",
      "          1       0.76      0.68      0.72     30511\n",
      "\n",
      "avg / total       0.73      0.73      0.73     61022\n",
      " \n",
      "\n",
      "[[23980  6531]\n",
      " [ 9873 20638]]\n",
      "ROC_AUC:  0.8189676459172313\n"
     ]
    }
   ],
   "source": [
    "print('final result: ')\n",
    "print(classification_report(data_OHE['osteo_predict'], all_preds), '\\n')\n",
    "print(confusion_matrix(data_OHE['osteo_predict'], all_preds)) \n",
    "print('ROC_AUC: ', roc_auc_score(data_OHE['osteo_predict'], probability))"
   ]
  },
  {
   "cell_type": "markdown",
   "metadata": {},
   "source": [
    "## RANDOM FOREST"
   ]
  },
  {
   "cell_type": "code",
   "execution_count": 290,
   "metadata": {},
   "outputs": [],
   "source": [
    "fold = KFold(10, shuffle = True, random_state = 12345)\n",
    "\n",
    "strata = data_OHE['Strata'].unique() \n",
    "\n",
    "all_preds = np.full(data_OHE.shape[0], 100)\n",
    "probability = np.ones(data_OHE.shape[0])\n",
    "\n",
    "for i, (train_index, test_index) in enumerate(fold.split(strata)):\n",
    "    \n",
    "    train_index_strata = strata[train_index]\n",
    "    test_index_strata = strata[test_index] \n",
    "    \n",
    "    X_train = data_OHE.loc[data_OHE['Strata'].isin(train_index_strata)].drop('osteo_predict', axis = 1)\n",
    "    X_test = data_OHE.loc[data_OHE['Strata'].isin(test_index_strata)].drop('osteo_predict', axis = 1)\n",
    "     \n",
    "    y_train = data_OHE.loc[data_OHE['Strata'].isin(train_index_strata)]['osteo_predict']\n",
    "    y_test = data_OHE.loc[data_OHE['Strata'].isin(test_index_strata)]['osteo_predict']\n",
    "\n",
    "    clf=RandomForestClassifier(n_estimators=100, random_state = 12345)\n",
    "    fit = clf.fit(X_train, y_train)\n",
    "    \n",
    "    y_pred = clf.predict(X_test)\n",
    "    all_preds[y_test.index] = y_pred\n",
    "    \n",
    "    probs = clf.predict_proba(X_test)\n",
    "    probability[y_test.index] = probs[:, 1]\n",
    " \n",
    "#     print(classification_report(y_test, y_pred))"
   ]
  },
  {
   "cell_type": "code",
   "execution_count": 291,
   "metadata": {},
   "outputs": [
    {
     "name": "stdout",
     "output_type": "stream",
     "text": [
      "final result: \n",
      "             precision    recall  f1-score   support\n",
      "\n",
      "          0       0.73      0.79      0.76     30511\n",
      "          1       0.77      0.70      0.74     30511\n",
      "\n",
      "avg / total       0.75      0.75      0.75     61022\n",
      " \n",
      "\n",
      "[[24225  6286]\n",
      " [ 9025 21486]]\n",
      "ROC_AUC:  0.8369783501775335\n"
     ]
    }
   ],
   "source": [
    "print('final result: ')\n",
    "print(classification_report(data_OHE['osteo_predict'], all_preds), '\\n')\n",
    "print(confusion_matrix(data_OHE['osteo_predict'], all_preds)) \n",
    "print('ROC_AUC: ', roc_auc_score(data_OHE['osteo_predict'], probability))"
   ]
  },
  {
   "cell_type": "code",
   "execution_count": 292,
   "metadata": {},
   "outputs": [
    {
     "data": {
      "text/html": [
       "<div>\n",
       "<style scoped>\n",
       "    .dataframe tbody tr th:only-of-type {\n",
       "        vertical-align: middle;\n",
       "    }\n",
       "\n",
       "    .dataframe tbody tr th {\n",
       "        vertical-align: top;\n",
       "    }\n",
       "\n",
       "    .dataframe thead th {\n",
       "        text-align: right;\n",
       "    }\n",
       "</style>\n",
       "<table border=\"1\" class=\"dataframe\">\n",
       "  <thead>\n",
       "    <tr style=\"text-align: right;\">\n",
       "      <th></th>\n",
       "      <th>feature</th>\n",
       "      <th>importance</th>\n",
       "    </tr>\n",
       "  </thead>\n",
       "  <tbody>\n",
       "    <tr>\n",
       "      <th>1</th>\n",
       "      <td>BMI_Avg_imputed</td>\n",
       "      <td>0.106613</td>\n",
       "    </tr>\n",
       "    <tr>\n",
       "      <th>0</th>\n",
       "      <td>Strata</td>\n",
       "      <td>0.092746</td>\n",
       "    </tr>\n",
       "    <tr>\n",
       "      <th>56</th>\n",
       "      <td>Calcium_Avg_Ever_decile_0.0</td>\n",
       "      <td>0.038281</td>\n",
       "    </tr>\n",
       "    <tr>\n",
       "      <th>127</th>\n",
       "      <td>Calcium_Avg_Ever_cat_1</td>\n",
       "      <td>0.022041</td>\n",
       "    </tr>\n",
       "    <tr>\n",
       "      <th>126</th>\n",
       "      <td>Calcium_Avg_Ever_cat_0</td>\n",
       "      <td>0.019846</td>\n",
       "    </tr>\n",
       "    <tr>\n",
       "      <th>66</th>\n",
       "      <td>Calcium_Avg_Ever_decile_nan</td>\n",
       "      <td>0.019364</td>\n",
       "    </tr>\n",
       "    <tr>\n",
       "      <th>125</th>\n",
       "      <td>Calcium_Avg_Prior_cat_1</td>\n",
       "      <td>0.016181</td>\n",
       "    </tr>\n",
       "    <tr>\n",
       "      <th>124</th>\n",
       "      <td>Calcium_Avg_Prior_cat_0</td>\n",
       "      <td>0.013077</td>\n",
       "    </tr>\n",
       "    <tr>\n",
       "      <th>22</th>\n",
       "      <td>Chronic_Hyponatremia</td>\n",
       "      <td>0.012940</td>\n",
       "    </tr>\n",
       "    <tr>\n",
       "      <th>30</th>\n",
       "      <td>Age_combine_from_50_to_70</td>\n",
       "      <td>0.012450</td>\n",
       "    </tr>\n",
       "    <tr>\n",
       "      <th>45</th>\n",
       "      <td>Calcium_Avg_Prior_decile_0.0</td>\n",
       "      <td>0.011506</td>\n",
       "    </tr>\n",
       "    <tr>\n",
       "      <th>28</th>\n",
       "      <td>Race_Cat_combine_white</td>\n",
       "      <td>0.011301</td>\n",
       "    </tr>\n",
       "    <tr>\n",
       "      <th>31</th>\n",
       "      <td>Age_combine_from_70_to_80</td>\n",
       "      <td>0.010700</td>\n",
       "    </tr>\n",
       "    <tr>\n",
       "      <th>26</th>\n",
       "      <td>Race_Cat_combine_black</td>\n",
       "      <td>0.010512</td>\n",
       "    </tr>\n",
       "    <tr>\n",
       "      <th>128</th>\n",
       "      <td>Sodium_Avg_Prior_cat_0</td>\n",
       "      <td>0.010345</td>\n",
       "    </tr>\n",
       "    <tr>\n",
       "      <th>55</th>\n",
       "      <td>Calcium_Avg_Prior_decile_nan</td>\n",
       "      <td>0.010207</td>\n",
       "    </tr>\n",
       "    <tr>\n",
       "      <th>18</th>\n",
       "      <td>PulmDisease_Prior</td>\n",
       "      <td>0.009872</td>\n",
       "    </tr>\n",
       "    <tr>\n",
       "      <th>57</th>\n",
       "      <td>Calcium_Avg_Ever_decile_1.0</td>\n",
       "      <td>0.009797</td>\n",
       "    </tr>\n",
       "    <tr>\n",
       "      <th>3</th>\n",
       "      <td>Tobacco_Prior</td>\n",
       "      <td>0.009617</td>\n",
       "    </tr>\n",
       "    <tr>\n",
       "      <th>19</th>\n",
       "      <td>CNS_Disease_Prior</td>\n",
       "      <td>0.009507</td>\n",
       "    </tr>\n",
       "  </tbody>\n",
       "</table>\n",
       "</div>"
      ],
      "text/plain": [
       "                          feature  importance\n",
       "1                 BMI_Avg_imputed    0.106613\n",
       "0                          Strata    0.092746\n",
       "56    Calcium_Avg_Ever_decile_0.0    0.038281\n",
       "127        Calcium_Avg_Ever_cat_1    0.022041\n",
       "126        Calcium_Avg_Ever_cat_0    0.019846\n",
       "66    Calcium_Avg_Ever_decile_nan    0.019364\n",
       "125       Calcium_Avg_Prior_cat_1    0.016181\n",
       "124       Calcium_Avg_Prior_cat_0    0.013077\n",
       "22           Chronic_Hyponatremia    0.012940\n",
       "30      Age_combine_from_50_to_70    0.012450\n",
       "45   Calcium_Avg_Prior_decile_0.0    0.011506\n",
       "28         Race_Cat_combine_white    0.011301\n",
       "31      Age_combine_from_70_to_80    0.010700\n",
       "26         Race_Cat_combine_black    0.010512\n",
       "128        Sodium_Avg_Prior_cat_0    0.010345\n",
       "55   Calcium_Avg_Prior_decile_nan    0.010207\n",
       "18              PulmDisease_Prior    0.009872\n",
       "57    Calcium_Avg_Ever_decile_1.0    0.009797\n",
       "3                   Tobacco_Prior    0.009617\n",
       "19              CNS_Disease_Prior    0.009507"
      ]
     },
     "execution_count": 292,
     "metadata": {},
     "output_type": "execute_result"
    }
   ],
   "source": [
    "import pandas as pd\n",
    "\n",
    "# Extract feature importances\n",
    "fi = pd.DataFrame({'feature': list(data_OHE.drop('osteo_predict', axis = 1).columns),\n",
    "                   'importance': clf.feature_importances_}).\\\n",
    "                    sort_values('importance', ascending = False)\n",
    "\n",
    "# Display\n",
    "fi.iloc[:20, :]"
   ]
  },
  {
   "cell_type": "code",
   "execution_count": null,
   "metadata": {
    "collapsed": true
   },
   "outputs": [],
   "source": []
  }
 ],
 "metadata": {
  "kernelspec": {
   "display_name": "Python 3",
   "language": "python",
   "name": "python3"
  },
  "language_info": {
   "codemirror_mode": {
    "name": "ipython",
    "version": 3
   },
   "file_extension": ".py",
   "mimetype": "text/x-python",
   "name": "python",
   "nbconvert_exporter": "python",
   "pygments_lexer": "ipython3",
   "version": "3.6.5"
  }
 },
 "nbformat": 4,
 "nbformat_minor": 2
}
