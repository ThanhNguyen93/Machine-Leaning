{
 "cells": [
  {
   "cell_type": "markdown",
   "metadata": {},
   "source": [
    "- TRAIN TOGETHER\n",
    "\n",
    "        def TRAIN_TOGETHER(original_data, classifier, demographic):\n",
    "            ohe = OHE(original_data)\n",
    "            df_model = TRAIN_MODEL(ohe, classifier)\n",
    "            SUBGROUP_ERR(df_model, original_data, demographic)\n",
    "\n",
    "    \n",
    "- TRAIN SEPARATELY\n",
    "\n",
    "        def TRAIN_SEPARATELY(original_data, demographic, classifier):\n",
    "            data_extract = EXTRACT_DATA(original_data, demographic, i)\n",
    "            ohe = OHE(data_extract)\n",
    "            TRAIN_MODEL(ohe, classifier)\n"
   ]
  },
  {
   "cell_type": "code",
   "execution_count": null,
   "metadata": {},
   "outputs": [],
   "source": [
    "import pandas as pd\n",
    "import numpy as np\n",
    "\n",
    "from sklearn.model_selection import KFold, cross_val_predict, cross_validate\n",
    "import sklearn.linear_model as linear_model\n",
    "\n",
    "from sklearn.cross_validation import cross_val_score\n",
    "import seaborn as sns \n",
    "from sklearn.ensemble import RandomForestClassifier\n",
    "\n",
    "from sklearn.metrics import confusion_matrix, classification_report, recall_score, precision_score, f1_score\n",
    "from sklearn.metrics import roc_auc_score\n",
    "\n",
    "import matplotlib.pyplot as plt\n",
    "\n",
    "%matplotlib inline"
   ]
  },
  {
   "cell_type": "code",
   "execution_count": null,
   "metadata": {},
   "outputs": [],
   "source": [
    "data_osteo = pd.read_csv('osteo_calcium_discretized.csv')\n",
    "print(data_osteo.shape)  "
   ]
  },
  {
   "cell_type": "code",
   "execution_count": null,
   "metadata": {},
   "outputs": [],
   "source": [
    "# extract needed columns\n",
    "osteo_extract_filter = data_osteo.filter(['Strata','sex','Race_Cat_combine', 'Age_combine','osteo_predict', 'BMI_Avg_imputed', \n",
    "     'Alcohol_Prior', 'Tobacco_Prior','Drug_antipsych_prior', 'Drug_Estrogens_prior', 'Drug_Glucocorticoids_prior',\n",
    "    'Drug_Nsaids_prior', 'Drug_Opiates_prior', 'Drug_Thiazide_prior','Drug_Loop_Diuretic_Prior',\n",
    "      'Drug_Pp_inhibitors_prior',  'Drug_Progesterone_prior',   'Drug_Seizure_prior',  'Drug_Ssris_prior',\n",
    " 'Drug_Tc_antidepress_prior',  'HeartDisease_Prior',  'Liver_Prior', 'PulmDisease_Prior',  'CNS_Disease_Prior',                                               \n",
    " 'Malignancy_Prior','Hyponatremia_Prior','Chronic_Hyponatremia', 'Recent_Hyponatremia', \n",
    "'Calcium_Avg_Prior_decile_1', 'Calcium_Closest_Osteo_decile_1', 'cal_avg_prior_cat', 'cal_closest_osteo_cat']) \n",
    "\n",
    "osteo_extract_filter.shape"
   ]
  },
  {
   "cell_type": "markdown",
   "metadata": {},
   "source": [
    "## Functions of TRAIN_TOGETHER()"
   ]
  },
  {
   "cell_type": "code",
   "execution_count": null,
   "metadata": {
    "collapsed": true
   },
   "outputs": [],
   "source": [
    "def OHE(data):\n",
    "    data_1 = data.copy()\n",
    "    \n",
    "    numeric_subset = data_1.select_dtypes('number')\n",
    "    categorical_subset = data_1.select_dtypes('object')\n",
    "\n",
    "    # One hot encode\n",
    "    categorical_subset = pd.get_dummies(categorical_subset) \n",
    "\n",
    "    # Join the two dataframes using concat. Make sure to use axis = 1 to perform a column bind\n",
    "    data_2 = pd.concat([numeric_subset, categorical_subset], axis = 1)\n",
    "\n",
    "    print('OHE shape: ', data_2.shape, '\\n')\n",
    "    print('Cols:', data_2.columns)\n",
    "    return pd.DataFrame(data=data_2)"
   ]
  },
  {
   "cell_type": "code",
   "execution_count": null,
   "metadata": {
    "collapsed": true
   },
   "outputs": [],
   "source": [
    "def TRAIN_MODEL(data, classifier):\n",
    "    fold = KFold(10, shuffle = True, random_state = 12345)\n",
    "    strata = data['Strata'].unique() \n",
    "\n",
    "    all_preds = np.full(data.shape[0], 100)\n",
    "    probability = np.ones(data.shape[0])\n",
    "\n",
    "    for i, (train_index, test_index) in enumerate(fold.split(strata)):\n",
    "\n",
    "        train_index_strata = strata[train_index]\n",
    "        test_index_strata = strata[test_index] \n",
    "\n",
    "        X_train = data.loc[data['Strata'].isin(train_index_strata)].drop('osteo_predict', axis = 1)\n",
    "        X_test = data.loc[data['Strata'].isin(test_index_strata)].drop('osteo_predict', axis = 1)\n",
    "\n",
    "        y_train = data.loc[data['Strata'].isin(train_index_strata)]['osteo_predict']\n",
    "        y_test = data.loc[data['Strata'].isin(test_index_strata)]['osteo_predict']\n",
    "\n",
    "        if classifier == 'RF':\n",
    "            lr = RandomForestClassifier(n_estimators=100, random_state = 12345)\n",
    "        \n",
    "        if classifier == 'LR':\n",
    "            lr = linear_model.LogisticRegression()     \n",
    "            \n",
    "        fit = lr.fit(X_train, y_train)\n",
    "\n",
    "        y_pred = lr.predict(X_test)\n",
    "        all_preds[y_test.index] = y_pred\n",
    "\n",
    "        probs = lr.predict_proba(X_test)\n",
    "        probability[y_test.index] = probs[:, 1]\n",
    "\n",
    "    #     print(classification_report(y_test, y_pred))_3['Strata'].unique() \n",
    "\n",
    "    data['all_pred'] = all_preds\n",
    "    data['probability'] = probability\n",
    "    print('\\nfinal result of the whole model: ')\n",
    "    print(classification_report(data['osteo_predict'], data['all_pred']), '\\n')\n",
    "    print(confusion_matrix(data['osteo_predict'], data['all_pred']), '\\n') \n",
    "    print('ROC_AUC of', classifier, ' ',roc_auc_score(data['osteo_predict'], data['probability']))\n",
    "    dataframe = pd.DataFrame(data=data)\n",
    "    return dataframe, lr"
   ]
  },
  {
   "cell_type": "code",
   "execution_count": null,
   "metadata": {
    "collapsed": true
   },
   "outputs": [],
   "source": [
    "def SUBGROUP_ERR(OHE, original_data, demographic):\n",
    "    \n",
    "    race = ['Race_Cat_combine_black', 'Race_Cat_combine_others', 'Race_Cat_combine_white']\n",
    "    age = ['Age_combine_from_30_to_50', 'Age_combine_from_50_to_70', \n",
    "           'Age_combine_from_70_to_80', 'Age_combine_less_than_30','Age_combine_more_than_80']\n",
    "    sex = ['sex_F', 'sex_M']   \n",
    "\n",
    "    subgroup_value = original_data[demographic].value_counts()\n",
    "    print(\"subgroups:\", subgroup_value)\n",
    "    \n",
    "    if demographic == 'Race_Cat_combine': \n",
    "        for i in race: \n",
    "            subgroup_1 = OHE.loc[OHE[i] == 1]\n",
    "            print(i, classification_report(subgroup_1['osteo_predict'], subgroup_1['all_pred']))\n",
    "            print(confusion_matrix(subgroup_1['osteo_predict'],subgroup_1['all_pred']))\n",
    "            print('ROC_AUC of', i, roc_auc_score(subgroup_1['osteo_predict'], subgroup_1['probability']))\n",
    "            print('----')\n",
    "            \n",
    "    elif demographic == 'Age_combine':\n",
    "        for i in age: \n",
    "            subgroup_2 = OHE.loc[OHE[i] == 1]\n",
    "            print(i, classification_report(subgroup_2['osteo_predict'], subgroup_2['all_pred']))\n",
    "            print(confusion_matrix(subgroup_2['osteo_predict'],subgroup_2['all_pred']))\n",
    "            print('ROC_AUC of',i, roc_auc_score(subgroup_2['osteo_predict'], subgroup_2['probability']))\n",
    "            print('------')\n",
    "            \n",
    "    elif demographic == 'sex': \n",
    "        for i in sex:\n",
    "            subgroup_3 = OHE.loc[OHE[i] == 1]\n",
    "            print(i, classification_report(subgroup_3['osteo_predict'], subgroup_3['all_pred']))\n",
    "            print(confusion_matrix(subgroup_3['osteo_predict'],subgroup_3['all_pred']))\n",
    "            print('ROC_AUC of',i, roc_auc_score(subgroup_3['osteo_predict'], subgroup_3['probability']))\n",
    "            print('-----')"
   ]
  },
  {
   "cell_type": "code",
   "execution_count": null,
   "metadata": {
    "collapsed": true
   },
   "outputs": [],
   "source": [
    "def TRAIN_TOGETHER(original_data, classifier, demographic):\n",
    "    ohe = OHE(original_data)\n",
    "    print('')\n",
    "    df_model, lr = TRAIN_MODEL(ohe, classifier)\n",
    "    print('')\n",
    "    SUBGROUP_ERR(df_model, original_data, demographic)"
   ]
  },
  {
   "cell_type": "markdown",
   "metadata": {},
   "source": [
    "## Train separate"
   ]
  },
  {
   "cell_type": "code",
   "execution_count": null,
   "metadata": {
    "collapsed": true
   },
   "outputs": [],
   "source": [
    "def EXTRACT_DATA(data, col, value):\n",
    "    data_extract = data.loc[data[col] == value]\n",
    "    print(data[col].value_counts(), '\\n')\n",
    "    print ('extracting: ', value, 'of column: ', col)\n",
    "#     print('after extracting: ', data_extract.shape) \n",
    "\n",
    "    data_extract_1 = data_extract.reset_index()\n",
    "    data_extract_2 = data_extract_1.drop(['index', col], axis = 1)  \n",
    "    print('new data shape', data_extract_2.shape)\n",
    "    return pd.DataFrame(data=data_extract_2)"
   ]
  },
  {
   "cell_type": "code",
   "execution_count": null,
   "metadata": {
    "collapsed": true
   },
   "outputs": [],
   "source": [
    "def TRAIN_SEPARATELY(original_data, demographic, classifier):\n",
    "    title = original_data[demographic].value_counts()\n",
    "    \n",
    "    for i in title.index:\n",
    "        data_extract = EXTRACT_DATA(original_data, demographic, i)\n",
    "        print(' ')\n",
    "        ohe = OHE(data_extract)\n",
    "        print(' ')\n",
    "        TRAIN_MODEL(ohe, classifier)\n",
    "        print('\\n ------------------')"
   ]
  },
  {
   "cell_type": "code",
   "execution_count": null,
   "metadata": {
    "collapsed": true
   },
   "outputs": [],
   "source": []
  }
 ],
 "metadata": {
  "kernelspec": {
   "display_name": "Python 3",
   "language": "python",
   "name": "python3"
  },
  "language_info": {
   "codemirror_mode": {
    "name": "ipython",
    "version": 3
   },
   "file_extension": ".py",
   "mimetype": "text/x-python",
   "name": "python",
   "nbconvert_exporter": "python",
   "pygments_lexer": "ipython3",
   "version": "3.6.5"
  }
 },
 "nbformat": 4,
 "nbformat_minor": 2
}
